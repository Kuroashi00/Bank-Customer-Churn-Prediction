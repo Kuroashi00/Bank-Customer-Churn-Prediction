{
 "cells": [
  {
   "cell_type": "markdown",
   "id": "59bc0468",
   "metadata": {},
   "source": [
    "# Bank Customer Churn Prediction"
   ]
  },
  {
   "cell_type": "markdown",
   "id": "7e3f957c",
   "metadata": {},
   "source": [
    "Customer churn is a significant concern for businesses, particularly in competitive industries such as banking. High churn rates result in loss of revenue and increased costs for acquiring new customers. This project aims to predict customer churn using machine learning techniques, helping the business identify at-risk customers and take proactive measures to retain them.\n"
   ]
  },
  {
   "cell_type": "markdown",
   "id": "be9d3693",
   "metadata": {},
   "source": [
    "## 1. Load Data\n",
    "---"
   ]
  },
  {
   "cell_type": "code",
   "execution_count": 3,
   "id": "54347758",
   "metadata": {},
   "outputs": [],
   "source": [
    "# Load data manipulation package\n",
    "import numpy as np\n",
    "import pandas as pd\n",
    "import itertools\n",
    "\n",
    "# Load data visualization package\n",
    "import matplotlib.pyplot as plt\n",
    "import seaborn as sns\n",
    "\n",
    "# Load Statistics package\n",
    "import statsmodels.api as sm"
   ]
  },
  {
   "cell_type": "code",
   "execution_count": 4,
   "id": "4d74bdf0",
   "metadata": {},
   "outputs": [
    {
     "data": {
      "text/html": [
       "<div>\n",
       "<style scoped>\n",
       "    .dataframe tbody tr th:only-of-type {\n",
       "        vertical-align: middle;\n",
       "    }\n",
       "\n",
       "    .dataframe tbody tr th {\n",
       "        vertical-align: top;\n",
       "    }\n",
       "\n",
       "    .dataframe thead th {\n",
       "        text-align: right;\n",
       "    }\n",
       "</style>\n",
       "<table border=\"1\" class=\"dataframe\">\n",
       "  <thead>\n",
       "    <tr style=\"text-align: right;\">\n",
       "      <th></th>\n",
       "      <th>0</th>\n",
       "      <th>1</th>\n",
       "      <th>2</th>\n",
       "      <th>3</th>\n",
       "      <th>4</th>\n",
       "    </tr>\n",
       "  </thead>\n",
       "  <tbody>\n",
       "    <tr>\n",
       "      <th>customer_id</th>\n",
       "      <td>15634602.00</td>\n",
       "      <td>15647311.00</td>\n",
       "      <td>15619304.00</td>\n",
       "      <td>15701354.00</td>\n",
       "      <td>15737888.00</td>\n",
       "    </tr>\n",
       "    <tr>\n",
       "      <th>credit_score</th>\n",
       "      <td>619.00</td>\n",
       "      <td>608.00</td>\n",
       "      <td>502.00</td>\n",
       "      <td>699.00</td>\n",
       "      <td>850.00</td>\n",
       "    </tr>\n",
       "    <tr>\n",
       "      <th>country</th>\n",
       "      <td>0.00</td>\n",
       "      <td>2.00</td>\n",
       "      <td>0.00</td>\n",
       "      <td>0.00</td>\n",
       "      <td>2.00</td>\n",
       "    </tr>\n",
       "    <tr>\n",
       "      <th>gender</th>\n",
       "      <td>0.00</td>\n",
       "      <td>0.00</td>\n",
       "      <td>0.00</td>\n",
       "      <td>0.00</td>\n",
       "      <td>0.00</td>\n",
       "    </tr>\n",
       "    <tr>\n",
       "      <th>age</th>\n",
       "      <td>42.00</td>\n",
       "      <td>41.00</td>\n",
       "      <td>42.00</td>\n",
       "      <td>39.00</td>\n",
       "      <td>43.00</td>\n",
       "    </tr>\n",
       "    <tr>\n",
       "      <th>tenure</th>\n",
       "      <td>2.00</td>\n",
       "      <td>1.00</td>\n",
       "      <td>8.00</td>\n",
       "      <td>1.00</td>\n",
       "      <td>2.00</td>\n",
       "    </tr>\n",
       "    <tr>\n",
       "      <th>balance</th>\n",
       "      <td>0.00</td>\n",
       "      <td>83807.86</td>\n",
       "      <td>159660.80</td>\n",
       "      <td>0.00</td>\n",
       "      <td>125510.82</td>\n",
       "    </tr>\n",
       "    <tr>\n",
       "      <th>products_number</th>\n",
       "      <td>1.00</td>\n",
       "      <td>1.00</td>\n",
       "      <td>3.00</td>\n",
       "      <td>2.00</td>\n",
       "      <td>1.00</td>\n",
       "    </tr>\n",
       "    <tr>\n",
       "      <th>credit_card</th>\n",
       "      <td>1.00</td>\n",
       "      <td>0.00</td>\n",
       "      <td>1.00</td>\n",
       "      <td>0.00</td>\n",
       "      <td>1.00</td>\n",
       "    </tr>\n",
       "    <tr>\n",
       "      <th>active_member</th>\n",
       "      <td>1.00</td>\n",
       "      <td>1.00</td>\n",
       "      <td>0.00</td>\n",
       "      <td>0.00</td>\n",
       "      <td>1.00</td>\n",
       "    </tr>\n",
       "    <tr>\n",
       "      <th>estimated_salary</th>\n",
       "      <td>101348.88</td>\n",
       "      <td>112542.58</td>\n",
       "      <td>113931.57</td>\n",
       "      <td>93826.63</td>\n",
       "      <td>79084.10</td>\n",
       "    </tr>\n",
       "    <tr>\n",
       "      <th>churn</th>\n",
       "      <td>1.00</td>\n",
       "      <td>0.00</td>\n",
       "      <td>1.00</td>\n",
       "      <td>0.00</td>\n",
       "      <td>0.00</td>\n",
       "    </tr>\n",
       "  </tbody>\n",
       "</table>\n",
       "</div>"
      ],
      "text/plain": [
       "                            0            1            2            3  \\\n",
       "customer_id       15634602.00  15647311.00  15619304.00  15701354.00   \n",
       "credit_score           619.00       608.00       502.00       699.00   \n",
       "country                  0.00         2.00         0.00         0.00   \n",
       "gender                   0.00         0.00         0.00         0.00   \n",
       "age                     42.00        41.00        42.00        39.00   \n",
       "tenure                   2.00         1.00         8.00         1.00   \n",
       "balance                  0.00     83807.86    159660.80         0.00   \n",
       "products_number          1.00         1.00         3.00         2.00   \n",
       "credit_card              1.00         0.00         1.00         0.00   \n",
       "active_member            1.00         1.00         0.00         0.00   \n",
       "estimated_salary    101348.88    112542.58    113931.57     93826.63   \n",
       "churn                    1.00         0.00         1.00         0.00   \n",
       "\n",
       "                            4  \n",
       "customer_id       15737888.00  \n",
       "credit_score           850.00  \n",
       "country                  2.00  \n",
       "gender                   0.00  \n",
       "age                     43.00  \n",
       "tenure                   2.00  \n",
       "balance             125510.82  \n",
       "products_number          1.00  \n",
       "credit_card              1.00  \n",
       "active_member            1.00  \n",
       "estimated_salary     79084.10  \n",
       "churn                    0.00  "
      ]
     },
     "execution_count": 4,
     "metadata": {},
     "output_type": "execute_result"
    }
   ],
   "source": [
    "# Import dataset from csv file\n",
    "data = pd.read_csv('Bank_Customer_Churn_Prediction.csv')\n",
    "\n",
    "# Label Encoding\n",
    "\n",
    "from sklearn.preprocessing import LabelEncoder\n",
    "\n",
    "# Inisialisasi encoder\n",
    "label_encoder = LabelEncoder()\n",
    "\n",
    "data = data.copy()\n",
    "data[data.select_dtypes(include=['object']).columns] = (\n",
    "    data.select_dtypes(include=['object']).apply(label_encoder.fit_transform).astype(int))\n",
    "\n",
    "# Table check\n",
    "data.head().T"
   ]
  },
  {
   "cell_type": "code",
   "execution_count": 5,
   "id": "a1fe9ac8",
   "metadata": {},
   "outputs": [
    {
     "data": {
      "text/plain": [
       "(10000, 12)"
      ]
     },
     "execution_count": 5,
     "metadata": {},
     "output_type": "execute_result"
    }
   ],
   "source": [
    "# Check the data shape\n",
    "data.shape"
   ]
  },
  {
   "cell_type": "markdown",
   "id": "d93b9379",
   "metadata": {},
   "source": [
    "  - Our sample contains 12 variables from 10,000 customers.\n",
    "    - 1 response variable, `churn`,\n",
    "    - and 11 potential predictors."
   ]
  },
  {
   "cell_type": "markdown",
   "id": "38a57cbb",
   "metadata": {},
   "source": [
    "Churn is a property of users. Check for the duplicate user in our sample using column `customer_id`."
   ]
  },
  {
   "cell_type": "code",
   "execution_count": 6,
   "id": "90911f3d",
   "metadata": {},
   "outputs": [
    {
     "data": {
      "text/plain": [
       "0"
      ]
     },
     "execution_count": 6,
     "metadata": {},
     "output_type": "execute_result"
    }
   ],
   "source": [
    "# Find the sum/total of duplicated user IDs.\n",
    "data['customer_id'].duplicated().sum()"
   ]
  },
  {
   "cell_type": "code",
   "execution_count": 7,
   "id": "01913553",
   "metadata": {},
   "outputs": [
    {
     "name": "stdout",
     "output_type": "stream",
     "text": [
      "<class 'pandas.core.frame.DataFrame'>\n",
      "RangeIndex: 10000 entries, 0 to 9999\n",
      "Data columns (total 11 columns):\n",
      " #   Column            Non-Null Count  Dtype  \n",
      "---  ------            --------------  -----  \n",
      " 0   credit_score      10000 non-null  int64  \n",
      " 1   country           10000 non-null  int32  \n",
      " 2   gender            10000 non-null  int32  \n",
      " 3   age               10000 non-null  int64  \n",
      " 4   tenure            10000 non-null  int64  \n",
      " 5   balance           10000 non-null  float64\n",
      " 6   products_number   10000 non-null  int64  \n",
      " 7   credit_card       10000 non-null  int64  \n",
      " 8   active_member     10000 non-null  int64  \n",
      " 9   estimated_salary  10000 non-null  float64\n",
      " 10  churn             10000 non-null  int64  \n",
      "dtypes: float64(2), int32(2), int64(7)\n",
      "memory usage: 781.4 KB\n"
     ]
    }
   ],
   "source": [
    "#drop the customer_id\n",
    "\n",
    "data = data.drop(columns=['customer_id'], axis=1)\n",
    "\n",
    "# Information check\n",
    "data.info()"
   ]
  },
  {
   "cell_type": "markdown",
   "id": "ade4d19e",
   "metadata": {},
   "source": [
    "Before modeling, make sure you split the data first for model validation.\n",
    "\n",
    "In the classification case, check the proportion of response variable first to decide the splitting strategy."
   ]
  },
  {
   "cell_type": "code",
   "execution_count": 8,
   "id": "7962f495",
   "metadata": {},
   "outputs": [
    {
     "data": {
      "text/plain": [
       "0    0.7963\n",
       "1    0.2037\n",
       "Name: churn, dtype: float64"
      ]
     },
     "execution_count": 8,
     "metadata": {},
     "output_type": "execute_result"
    }
   ],
   "source": [
    "# Check the proportion of response variable\n",
    "data['churn'].value_counts(normalize=True)"
   ]
  },
  {
   "cell_type": "markdown",
   "id": "11f41fc6",
   "metadata": {},
   "source": [
    "The proportion of the response variable, `churn`, is not quite balanced (in a ratio of 79:21).\n",
    "\n",
    "To get the same ratio in training & testing set, define a stratified splitting based on the response variable, `churn`."
   ]
  },
  {
   "cell_type": "markdown",
   "id": "148964e7",
   "metadata": {},
   "source": [
    "## 2. Sample Splitting\n",
    "---"
   ]
  },
  {
   "cell_type": "code",
   "execution_count": 9,
   "id": "be3ebcef",
   "metadata": {},
   "outputs": [
    {
     "name": "stdout",
     "output_type": "stream",
     "text": [
      "y shape : (10000,)\n",
      "X shape : (10000, 10)\n"
     ]
    }
   ],
   "source": [
    "response_variable = 'churn'\n",
    "\n",
    "# Split response and predictors\n",
    "y = data[response_variable]\n",
    "X = data.drop(columns=[response_variable], axis=1)\n",
    "\n",
    "# Validate the splitting\n",
    "print('y shape :', y.shape)\n",
    "print('X shape :', X.shape)"
   ]
  },
  {
   "cell_type": "markdown",
   "id": "6d42c7df",
   "metadata": {},
   "source": [
    "Next, split the training and testing set from each predictors (X) and response (y).\n",
    "- Set `stratify = y` for splitting the sample with stratify, based on the proportion of response y.\n",
    "- Set `test_size = 0.3` for holding 30% of the sample as a testing set.\n",
    "- Set `random_state = 47` for reproducibility."
   ]
  },
  {
   "cell_type": "code",
   "execution_count": 10,
   "id": "d8ccbd48",
   "metadata": {},
   "outputs": [
    {
     "name": "stdout",
     "output_type": "stream",
     "text": [
      "X train shape : (7000, 10)\n",
      "y train shape : (7000,)\n",
      "X test shape  : (3000, 10)\n",
      "y test shape  : (3000,)\n"
     ]
    }
   ],
   "source": [
    "from sklearn.model_selection import train_test_split\n",
    "\n",
    "# Split the data\n",
    "X_train, X_test, y_train, y_test = train_test_split(X,\n",
    "                                                    y,\n",
    "                                                    stratify = y,\n",
    "                                                    test_size = 0.3,\n",
    "                                                    random_state = 47)\n",
    "\n",
    "# Validate splitting\n",
    "print('X train shape :', X_train.shape)\n",
    "print('y train shape :', y_train.shape)\n",
    "print('X test shape  :', X_test.shape)\n",
    "print('y test shape  :', y_test.shape)"
   ]
  },
  {
   "cell_type": "code",
   "execution_count": 11,
   "id": "472fe0e4",
   "metadata": {},
   "outputs": [
    {
     "data": {
      "text/plain": [
       "0    0.796286\n",
       "1    0.203714\n",
       "Name: churn, dtype: float64"
      ]
     },
     "execution_count": 11,
     "metadata": {},
     "output_type": "execute_result"
    }
   ],
   "source": [
    "y_train.value_counts(normalize=True)"
   ]
  },
  {
   "cell_type": "code",
   "execution_count": 12,
   "id": "7874f963",
   "metadata": {},
   "outputs": [
    {
     "data": {
      "text/plain": [
       "0    0.796333\n",
       "1    0.203667\n",
       "Name: churn, dtype: float64"
      ]
     },
     "execution_count": 12,
     "metadata": {},
     "output_type": "execute_result"
    }
   ],
   "source": [
    "y_test.value_counts(normalize=True)"
   ]
  },
  {
   "cell_type": "markdown",
   "id": "4e247ac9",
   "metadata": {},
   "source": [
    "## 3. Exploratory Data Analysis\n",
    "---"
   ]
  },
  {
   "cell_type": "markdown",
   "id": "72aba635",
   "metadata": {},
   "source": [
    "- To make a model that predicts well on unseen data, we must prevent leakage of test set information.\n",
    "- Thus, we only explore on **training set**."
   ]
  },
  {
   "cell_type": "code",
   "execution_count": 13,
   "id": "c430d188",
   "metadata": {},
   "outputs": [
    {
     "name": "stdout",
     "output_type": "stream",
     "text": [
      "Train data shape: (7000, 11)\n"
     ]
    },
    {
     "data": {
      "text/html": [
       "<div>\n",
       "<style scoped>\n",
       "    .dataframe tbody tr th:only-of-type {\n",
       "        vertical-align: middle;\n",
       "    }\n",
       "\n",
       "    .dataframe tbody tr th {\n",
       "        vertical-align: top;\n",
       "    }\n",
       "\n",
       "    .dataframe thead th {\n",
       "        text-align: right;\n",
       "    }\n",
       "</style>\n",
       "<table border=\"1\" class=\"dataframe\">\n",
       "  <thead>\n",
       "    <tr style=\"text-align: right;\">\n",
       "      <th></th>\n",
       "      <th>5452</th>\n",
       "      <th>7707</th>\n",
       "      <th>1954</th>\n",
       "      <th>9152</th>\n",
       "      <th>310</th>\n",
       "    </tr>\n",
       "  </thead>\n",
       "  <tbody>\n",
       "    <tr>\n",
       "      <th>credit_score</th>\n",
       "      <td>558.00</td>\n",
       "      <td>848.00</td>\n",
       "      <td>624.00</td>\n",
       "      <td>708.00</td>\n",
       "      <td>652.00</td>\n",
       "    </tr>\n",
       "    <tr>\n",
       "      <th>country</th>\n",
       "      <td>0.00</td>\n",
       "      <td>2.00</td>\n",
       "      <td>2.00</td>\n",
       "      <td>1.00</td>\n",
       "      <td>0.00</td>\n",
       "    </tr>\n",
       "    <tr>\n",
       "      <th>gender</th>\n",
       "      <td>0.00</td>\n",
       "      <td>1.00</td>\n",
       "      <td>1.00</td>\n",
       "      <td>0.00</td>\n",
       "      <td>0.00</td>\n",
       "    </tr>\n",
       "    <tr>\n",
       "      <th>age</th>\n",
       "      <td>45.00</td>\n",
       "      <td>35.00</td>\n",
       "      <td>51.00</td>\n",
       "      <td>23.00</td>\n",
       "      <td>80.00</td>\n",
       "    </tr>\n",
       "    <tr>\n",
       "      <th>tenure</th>\n",
       "      <td>1.00</td>\n",
       "      <td>5.00</td>\n",
       "      <td>5.00</td>\n",
       "      <td>4.00</td>\n",
       "      <td>4.00</td>\n",
       "    </tr>\n",
       "    <tr>\n",
       "      <th>balance</th>\n",
       "      <td>153697.53</td>\n",
       "      <td>120046.74</td>\n",
       "      <td>174397.21</td>\n",
       "      <td>71433.08</td>\n",
       "      <td>0.00</td>\n",
       "    </tr>\n",
       "    <tr>\n",
       "      <th>products_number</th>\n",
       "      <td>2.00</td>\n",
       "      <td>2.00</td>\n",
       "      <td>2.00</td>\n",
       "      <td>1.00</td>\n",
       "      <td>2.00</td>\n",
       "    </tr>\n",
       "    <tr>\n",
       "      <th>credit_card</th>\n",
       "      <td>0.00</td>\n",
       "      <td>1.00</td>\n",
       "      <td>1.00</td>\n",
       "      <td>1.00</td>\n",
       "      <td>1.00</td>\n",
       "    </tr>\n",
       "    <tr>\n",
       "      <th>active_member</th>\n",
       "      <td>0.00</td>\n",
       "      <td>0.00</td>\n",
       "      <td>1.00</td>\n",
       "      <td>0.00</td>\n",
       "      <td>1.00</td>\n",
       "    </tr>\n",
       "    <tr>\n",
       "      <th>estimated_salary</th>\n",
       "      <td>89891.40</td>\n",
       "      <td>84710.65</td>\n",
       "      <td>172372.63</td>\n",
       "      <td>103697.57</td>\n",
       "      <td>188603.07</td>\n",
       "    </tr>\n",
       "    <tr>\n",
       "      <th>churn</th>\n",
       "      <td>1.00</td>\n",
       "      <td>0.00</td>\n",
       "      <td>0.00</td>\n",
       "      <td>0.00</td>\n",
       "      <td>0.00</td>\n",
       "    </tr>\n",
       "  </tbody>\n",
       "</table>\n",
       "</div>"
      ],
      "text/plain": [
       "                       5452       7707       1954       9152       310 \n",
       "credit_score         558.00     848.00     624.00     708.00     652.00\n",
       "country                0.00       2.00       2.00       1.00       0.00\n",
       "gender                 0.00       1.00       1.00       0.00       0.00\n",
       "age                   45.00      35.00      51.00      23.00      80.00\n",
       "tenure                 1.00       5.00       5.00       4.00       4.00\n",
       "balance           153697.53  120046.74  174397.21   71433.08       0.00\n",
       "products_number        2.00       2.00       2.00       1.00       2.00\n",
       "credit_card            0.00       1.00       1.00       1.00       1.00\n",
       "active_member          0.00       0.00       1.00       0.00       1.00\n",
       "estimated_salary   89891.40   84710.65  172372.63  103697.57  188603.07\n",
       "churn                  1.00       0.00       0.00       0.00       0.00"
      ]
     },
     "execution_count": 13,
     "metadata": {},
     "output_type": "execute_result"
    }
   ],
   "source": [
    "# Concatenate X_train and y_train as data_train\n",
    "data_train = pd.concat((X_train, y_train), axis=1)\n",
    "\n",
    "# Validate data_train\n",
    "print('Train data shape:', data_train.shape)\n",
    "data_train.head().T"
   ]
  },
  {
   "cell_type": "code",
   "execution_count": 14,
   "id": "74a4a37b",
   "metadata": {},
   "outputs": [
    {
     "data": {
      "text/plain": [
       "credit_score        0\n",
       "country             0\n",
       "gender              0\n",
       "age                 0\n",
       "tenure              0\n",
       "balance             0\n",
       "products_number     0\n",
       "credit_card         0\n",
       "active_member       0\n",
       "estimated_salary    0\n",
       "churn               0\n",
       "dtype: int64"
      ]
     },
     "execution_count": 14,
     "metadata": {},
     "output_type": "execute_result"
    }
   ],
   "source": [
    "# Check for missing values\n",
    "data_train.isna().sum()"
   ]
  },
  {
   "cell_type": "markdown",
   "id": "6acf4e11",
   "metadata": {},
   "source": [
    "### Predictor 1: gender\n",
    "---"
   ]
  },
  {
   "cell_type": "code",
   "execution_count": 15,
   "id": "786b86ae",
   "metadata": {},
   "outputs": [
    {
     "data": {
      "text/plain": [
       "1    0.544143\n",
       "0    0.455857\n",
       "Name: gender, dtype: float64"
      ]
     },
     "execution_count": 15,
     "metadata": {},
     "output_type": "execute_result"
    }
   ],
   "source": [
    "# Describe proportion of 'gender'\n",
    "data_train['gender'].value_counts(normalize=True)"
   ]
  },
  {
   "cell_type": "markdown",
   "id": "073ffc64",
   "metadata": {},
   "source": [
    "From here, we know that our sample ratio of gender is 55:45."
   ]
  },
  {
   "cell_type": "code",
   "execution_count": 16,
   "id": "b2e6c6af",
   "metadata": {},
   "outputs": [
    {
     "data": {
      "text/plain": [
       "<AxesSubplot:xlabel='gender', ylabel='count'>"
      ]
     },
     "execution_count": 16,
     "metadata": {},
     "output_type": "execute_result"
    },
    {
     "data": {
      "image/png": "[encoded data removed]",
      "text/plain": [
       "<Figure size 432x288 with 1 Axes>"
      ]
     },
     "metadata": {
      "needs_background": "light"
     },
     "output_type": "display_data"
    }
   ],
   "source": [
    "# Describe proportion of churn by 'is_tv_subscriber'\n",
    "sns.countplot(data = data_train,\n",
    "              x = 'gender',\n",
    "              hue = 'churn')"
   ]
  },
  {
   "cell_type": "markdown",
   "id": "7e0759ed",
   "metadata": {},
   "source": [
    "Kita dapat melihat bahwa customer laki-laki memiliki presentase churn yang lebih rendah daripada customer perempuan, namun memiliki presentase retensi yang lebih tinggi daripada customer perempuan"
   ]
  },
  {
   "cell_type": "code",
   "execution_count": 17,
   "id": "55a5cdce",
   "metadata": {},
   "outputs": [
    {
     "data": {
      "text/html": [
       "<div>\n",
       "<style scoped>\n",
       "    .dataframe tbody tr th:only-of-type {\n",
       "        vertical-align: middle;\n",
       "    }\n",
       "\n",
       "    .dataframe tbody tr th {\n",
       "        vertical-align: top;\n",
       "    }\n",
       "\n",
       "    .dataframe thead th {\n",
       "        text-align: right;\n",
       "    }\n",
       "</style>\n",
       "<table border=\"1\" class=\"dataframe\">\n",
       "  <thead>\n",
       "    <tr style=\"text-align: right;\">\n",
       "      <th>churn</th>\n",
       "      <th>0</th>\n",
       "      <th>1</th>\n",
       "    </tr>\n",
       "    <tr>\n",
       "      <th>gender</th>\n",
       "      <th></th>\n",
       "      <th></th>\n",
       "    </tr>\n",
       "  </thead>\n",
       "  <tbody>\n",
       "    <tr>\n",
       "      <th>0</th>\n",
       "      <td>2385</td>\n",
       "      <td>806</td>\n",
       "    </tr>\n",
       "    <tr>\n",
       "      <th>1</th>\n",
       "      <td>3189</td>\n",
       "      <td>620</td>\n",
       "    </tr>\n",
       "  </tbody>\n",
       "</table>\n",
       "</div>"
      ],
      "text/plain": [
       "churn      0    1\n",
       "gender           \n",
       "0       2385  806\n",
       "1       3189  620"
      ]
     },
     "execution_count": 17,
     "metadata": {},
     "output_type": "execute_result"
    }
   ],
   "source": [
    "# Frequency of churn by 'gender'\n",
    "churn_by_gender = pd.crosstab(data_train['gender'],\n",
    "                                     data_train['churn'],\n",
    "                                     margins = False)\n",
    "churn_by_gender"
   ]
  },
  {
   "cell_type": "code",
   "execution_count": 18,
   "id": "aa45ac56",
   "metadata": {},
   "outputs": [
    {
     "name": "stdout",
     "output_type": "stream",
     "text": [
      "Odds of churning from:\n",
      "Male     = 0.19\n",
      "Female = 0.34\n"
     ]
    }
   ],
   "source": [
    "# Odds of churning from Female\n",
    "odds_Female = churn_by_gender[1][0]/churn_by_gender[0][0]\n",
    "\n",
    "# Odds of churning from Male\n",
    "odds_Male = churn_by_gender[1][1]/churn_by_gender[0][1]\n",
    "\n",
    "print(\"Odds of churning from:\")\n",
    "print(f\"Male     = {odds_Male:.2f}\")\n",
    "print(f\"Female = {odds_Female:.2f}\")"
   ]
  },
  {
   "cell_type": "code",
   "execution_count": 19,
   "id": "7a4fa3ab",
   "metadata": {},
   "outputs": [
    {
     "name": "stdout",
     "output_type": "stream",
     "text": [
      "Chi-stat   : 85.7904\n",
      "P-value    : 0.0000\n"
     ]
    }
   ],
   "source": [
    "# Let's check from the independence test\n",
    "\n",
    "# Import the libraries\n",
    "import scipy.stats as stats\n",
    "from scipy.stats import chi2_contingency\n",
    "\n",
    "# Test whether churn is independent of TV subscriber\n",
    "stats.chi2_contingency(churn_by_gender)\n",
    "\n",
    "# Result of independence test\n",
    "result = stats.chi2_contingency(churn_by_gender)\n",
    "\n",
    "# Extract the test result\n",
    "stat = result[0]\n",
    "pval = result[1]\n",
    "\n",
    "print(f\"Chi-stat   : {stat:.4f}\")\n",
    "print(f\"P-value    : {pval:.4f}\")"
   ]
  },
  {
   "cell_type": "code",
   "execution_count": 20,
   "id": "9bcedacf",
   "metadata": {},
   "outputs": [],
   "source": [
    "# Create a function of independence test\n",
    "def independence_test(predictor_label, alpha=0.05):\n",
    "    \"\"\"\n",
    "    Funtion to perform the independence test.\n",
    "\n",
    "    Parameters\n",
    "    ----------\n",
    "    predictor_label : object\n",
    "      The label of predictor variable.\n",
    "\n",
    "    alpha : float in range[0,1], default = 0.05\n",
    "      Probability of Type I Error (reject H0 when H0 is true).\n",
    "\n",
    "    \"\"\"\n",
    "    # Build the contingency table\n",
    "    crosstab = pd.crosstab(data_train[predictor_label],\n",
    "                           data_train['churn'],\n",
    "                           margins = False)\n",
    "\n",
    "    # Test whether churn is independent of the predictor\n",
    "    stats.chi2_contingency(crosstab)\n",
    "\n",
    "    # Result of independence test\n",
    "    result = stats.chi2_contingency(crosstab)\n",
    "\n",
    "    # Extract the test result\n",
    "    stat = result[0]\n",
    "    pval = result[1]\n",
    "\n",
    "    # Print the conclusion\n",
    "    if pval < alpha:\n",
    "        print(f\"Churn and {predictor_label} is not independent with P-val={pval}.\")\n",
    "    else:\n",
    "        print(f\"Churn and {predictor_label} is independent with P-val={pval}.\")"
   ]
  },
  {
   "cell_type": "code",
   "execution_count": 21,
   "id": "9a298d93",
   "metadata": {},
   "outputs": [
    {
     "name": "stdout",
     "output_type": "stream",
     "text": [
      "Churn and gender is not independent with P-val=2.000581868539255e-20.\n"
     ]
    }
   ],
   "source": [
    "# Perform the independence test\n",
    "independence_test('gender')"
   ]
  },
  {
   "cell_type": "code",
   "execution_count": 22,
   "id": "4d6c4916",
   "metadata": {},
   "outputs": [
    {
     "name": "stdout",
     "output_type": "stream",
     "text": [
      "Churn and credit_score is independent with P-val=0.2788073328698837.\n",
      "Churn and country is not independent with P-val=1.352383261229898e-41.\n",
      "Churn and gender is not independent with P-val=2.000581868539255e-20.\n",
      "Churn and age is not independent with P-val=1.1508968994090899e-197.\n",
      "Churn and tenure is independent with P-val=0.6290344117810935.\n",
      "Churn and balance is not independent with P-val=2.969339193866436e-11.\n",
      "Churn and products_number is not independent with P-val=6.647852482242565e-229.\n",
      "Churn and credit_card is independent with P-val=0.28023025654215206.\n",
      "Churn and active_member is not independent with P-val=1.9269382028663912e-39.\n",
      "Churn and estimated_salary is independent with P-val=0.4910090165706.\n"
     ]
    }
   ],
   "source": [
    "for column in data.columns:\n",
    "    if column != 'churn':  # Skip target column\n",
    "        independence_test(column)"
   ]
  },
  {
   "cell_type": "markdown",
   "id": "e11d0fbb",
   "metadata": {},
   "source": [
    "**Summary**\n",
    "\n",
    "**Business Insight:**\n",
    "- Probabilitas pelanggan berhenti (churn) dan potensi prediktor berupa jenis kelamin tidak bersifat independen, di mana peluang lebih tinggi untuk berhenti berasal dari pelanggan perempuan.\n",
    "  - Oleh karena itu, jenis kelamin mungkin memiliki nilai tambahan bagi pelanggan kita dalam upaya untuk mempertahankan mereka."
   ]
  },
  {
   "cell_type": "code",
   "execution_count": 23,
   "id": "554c2102",
   "metadata": {},
   "outputs": [
    {
     "data": {
      "text/plain": [
       "False"
      ]
     },
     "execution_count": 23,
     "metadata": {},
     "output_type": "execute_result"
    }
   ],
   "source": [
    "# Checking missing value\n",
    "data_train['gender'].isnull().any()"
   ]
  },
  {
   "cell_type": "markdown",
   "id": "7f2bbf12",
   "metadata": {},
   "source": [
    "**Pre-processing Plan:**\n",
    "- We don't have outlier and missing values from `gender` variable."
   ]
  },
  {
   "cell_type": "markdown",
   "id": "0327545a",
   "metadata": {},
   "source": [
    "### Predictor 2: country\n",
    "---"
   ]
  },
  {
   "cell_type": "code",
   "execution_count": 24,
   "id": "10da2688",
   "metadata": {},
   "outputs": [
    {
     "data": {
      "text/plain": [
       "0    0.504286\n",
       "1    0.250286\n",
       "2    0.245429\n",
       "Name: country, dtype: float64"
      ]
     },
     "execution_count": 24,
     "metadata": {},
     "output_type": "execute_result"
    }
   ],
   "source": [
    "# Describe proportion of 'is_movie_package_subscriber'\n",
    "data_train['country'].value_counts(normalize=True)"
   ]
  },
  {
   "cell_type": "code",
   "execution_count": 25,
   "id": "91fe76bd",
   "metadata": {},
   "outputs": [
    {
     "data": {
      "text/plain": [
       "<AxesSubplot:xlabel='country', ylabel='count'>"
      ]
     },
     "execution_count": 25,
     "metadata": {},
     "output_type": "execute_result"
    },
    {
     "data": {
      "image/png": "[encoded data removed]",
      "text/plain": [
       "<Figure size 432x288 with 1 Axes>"
      ]
     },
     "metadata": {
      "needs_background": "light"
     },
     "output_type": "display_data"
    }
   ],
   "source": [
    "# Describe proportion of churn by 'is_movie_package_subscriber'\n",
    "sns.countplot(data = data_train,\n",
    "              x = 'country',\n",
    "              hue = 'churn')"
   ]
  },
  {
   "cell_type": "markdown",
   "id": "c4f94e68",
   "metadata": {},
   "source": [
    "Kita dapat melihat bahwa customer dari negara Perancis mendominasi dari tingkat retensi, sedangkan customer dari negara Germany dan Spain hampir imbang. Presentase Churn sebenernya tidak memiliki tingkat perbedan yang signifikan, customer dari negara Perancis dan Germany memiliki tingkat churn yang paling tinggi disusul customer dari negara Spain.\n",
    "\n",
    "0 france\n",
    "1 germany\n",
    "2 spain"
   ]
  },
  {
   "cell_type": "markdown",
   "id": "f11d6742",
   "metadata": {},
   "source": [
    "### Predictor 3: credit score\n",
    "---"
   ]
  },
  {
   "cell_type": "code",
   "execution_count": 26,
   "id": "baa2ac27",
   "metadata": {},
   "outputs": [
    {
     "data": {
      "text/plain": [
       "count    7000.000000\n",
       "mean      650.613429\n",
       "std        96.360267\n",
       "min       350.000000\n",
       "25%       584.000000\n",
       "50%       652.000000\n",
       "75%       717.000000\n",
       "max       850.000000\n",
       "Name: credit_score, dtype: float64"
      ]
     },
     "execution_count": 26,
     "metadata": {},
     "output_type": "execute_result"
    }
   ],
   "source": [
    "# Descriptive statistics of 'credit_score'\n",
    "data_train['credit_score'].describe()"
   ]
  },
  {
   "cell_type": "code",
   "execution_count": 27,
   "id": "e0743eb7",
   "metadata": {},
   "outputs": [
    {
     "data": {
      "text/html": [
       "<div>\n",
       "<style scoped>\n",
       "    .dataframe tbody tr th:only-of-type {\n",
       "        vertical-align: middle;\n",
       "    }\n",
       "\n",
       "    .dataframe tbody tr th {\n",
       "        vertical-align: top;\n",
       "    }\n",
       "\n",
       "    .dataframe thead th {\n",
       "        text-align: right;\n",
       "    }\n",
       "</style>\n",
       "<table border=\"1\" class=\"dataframe\">\n",
       "  <thead>\n",
       "    <tr style=\"text-align: right;\">\n",
       "      <th></th>\n",
       "      <th>count</th>\n",
       "      <th>mean</th>\n",
       "      <th>std</th>\n",
       "      <th>min</th>\n",
       "      <th>25%</th>\n",
       "      <th>50%</th>\n",
       "      <th>75%</th>\n",
       "      <th>max</th>\n",
       "    </tr>\n",
       "    <tr>\n",
       "      <th>churn</th>\n",
       "      <th></th>\n",
       "      <th></th>\n",
       "      <th></th>\n",
       "      <th></th>\n",
       "      <th></th>\n",
       "      <th></th>\n",
       "      <th></th>\n",
       "      <th></th>\n",
       "    </tr>\n",
       "  </thead>\n",
       "  <tbody>\n",
       "    <tr>\n",
       "      <th>0</th>\n",
       "      <td>5574.0</td>\n",
       "      <td>652.458378</td>\n",
       "      <td>95.780163</td>\n",
       "      <td>408.0</td>\n",
       "      <td>586.0</td>\n",
       "      <td>655.0</td>\n",
       "      <td>718.0</td>\n",
       "      <td>850.0</td>\n",
       "    </tr>\n",
       "    <tr>\n",
       "      <th>1</th>\n",
       "      <td>1426.0</td>\n",
       "      <td>643.401823</td>\n",
       "      <td>98.297360</td>\n",
       "      <td>350.0</td>\n",
       "      <td>578.0</td>\n",
       "      <td>644.0</td>\n",
       "      <td>713.0</td>\n",
       "      <td>850.0</td>\n",
       "    </tr>\n",
       "  </tbody>\n",
       "</table>\n",
       "</div>"
      ],
      "text/plain": [
       "        count        mean        std    min    25%    50%    75%    max\n",
       "churn                                                                  \n",
       "0      5574.0  652.458378  95.780163  408.0  586.0  655.0  718.0  850.0\n",
       "1      1426.0  643.401823  98.297360  350.0  578.0  644.0  713.0  850.0"
      ]
     },
     "execution_count": 27,
     "metadata": {},
     "output_type": "execute_result"
    }
   ],
   "source": [
    "# Descriptive of credit_score by response churn\n",
    "data_train['credit_score'].groupby(data_train['churn']).describe()"
   ]
  },
  {
   "cell_type": "code",
   "execution_count": 28,
   "id": "3b4755de",
   "metadata": {},
   "outputs": [
    {
     "data": {
      "text/plain": [
       "<AxesSubplot:xlabel='churn', ylabel='credit_score'>"
      ]
     },
     "execution_count": 28,
     "metadata": {},
     "output_type": "execute_result"
    },
    {
     "data": {
      "image/png": "[encoded data removed]",
      "text/plain": [
       "<Figure size 432x288 with 1 Axes>"
      ]
     },
     "metadata": {
      "needs_background": "light"
     },
     "output_type": "display_data"
    }
   ],
   "source": [
    "# Boxplot of credit_score by response churn\n",
    "sns.boxplot(data = data_train,\n",
    "            x = 'churn',\n",
    "            y = 'credit_score')"
   ]
  },
  {
   "cell_type": "code",
   "execution_count": 29,
   "id": "fbdf8d69",
   "metadata": {},
   "outputs": [
    {
     "data": {
      "text/plain": [
       "<seaborn.axisgrid.FacetGrid at 0x200b5749fa0>"
      ]
     },
     "execution_count": 29,
     "metadata": {},
     "output_type": "execute_result"
    },
    {
     "data": {
      "image/png": "[encoded data removed]",
      "text/plain": [
       "<Figure size 402.375x360 with 1 Axes>"
      ]
     },
     "metadata": {
      "needs_background": "light"
     },
     "output_type": "display_data"
    }
   ],
   "source": [
    "# Distribution plot of credit_score by response churn\n",
    "sns.displot(data = data_train,\n",
    "            x = 'credit_score',\n",
    "            hue = 'churn',\n",
    "            kind ='kde')"
   ]
  },
  {
   "cell_type": "markdown",
   "id": "eddc2c6f",
   "metadata": {},
   "source": [
    "Pelanggan yang berhenti (churned) dan yang tetap bertahan (retained) tampaknya berasal dari populasi yang heterogen, di mana rata-rata nilai credit score antara churn dan retain berbeda cukup jauh.\n",
    "\n",
    "Karena kita belum mendapatkan informasi lebih lanjut tentang variabel ini, kita mengasumsikan bahwa nilai tinggi dari rata-rata tagihan bukan merupakan outlier."
   ]
  },
  {
   "cell_type": "code",
   "execution_count": 30,
   "id": "cd7832fc",
   "metadata": {},
   "outputs": [
    {
     "data": {
      "text/plain": [
       "False"
      ]
     },
     "execution_count": 30,
     "metadata": {},
     "output_type": "execute_result"
    }
   ],
   "source": [
    "# Checking missing value\n",
    "data_train['credit_score'].isnull().any()"
   ]
  },
  {
   "cell_type": "markdown",
   "id": "a74541ca",
   "metadata": {},
   "source": [
    "### Predictor 4: age\n",
    "---"
   ]
  },
  {
   "cell_type": "code",
   "execution_count": 31,
   "id": "f658eb4e",
   "metadata": {},
   "outputs": [
    {
     "data": {
      "text/plain": [
       "count    7000.000000\n",
       "mean       38.946286\n",
       "std        10.437807\n",
       "min        18.000000\n",
       "25%        32.000000\n",
       "50%        37.000000\n",
       "75%        44.000000\n",
       "max        92.000000\n",
       "Name: age, dtype: float64"
      ]
     },
     "execution_count": 31,
     "metadata": {},
     "output_type": "execute_result"
    }
   ],
   "source": [
    "# Descriptive statistics of subscription_age\n",
    "data_train['age'].describe()"
   ]
  },
  {
   "cell_type": "code",
   "execution_count": 32,
   "id": "fc023e9c",
   "metadata": {},
   "outputs": [
    {
     "data": {
      "text/plain": [
       "<AxesSubplot:xlabel='age', ylabel='Count'>"
      ]
     },
     "execution_count": 32,
     "metadata": {},
     "output_type": "execute_result"
    },
    {
     "data": {
      "image/png": "[encoded data removed]",
      "text/plain": [
       "<Figure size 432x288 with 1 Axes>"
      ]
     },
     "metadata": {
      "needs_background": "light"
     },
     "output_type": "display_data"
    }
   ],
   "source": [
    "# Distribution plot of age\n",
    "sns.histplot(data = data_train,\n",
    "             x = 'age',\n",
    "             bins = 12)"
   ]
  },
  {
   "cell_type": "code",
   "execution_count": 33,
   "id": "23e4a3d6",
   "metadata": {},
   "outputs": [
    {
     "data": {
      "text/html": [
       "<div>\n",
       "<style scoped>\n",
       "    .dataframe tbody tr th:only-of-type {\n",
       "        vertical-align: middle;\n",
       "    }\n",
       "\n",
       "    .dataframe tbody tr th {\n",
       "        vertical-align: top;\n",
       "    }\n",
       "\n",
       "    .dataframe thead th {\n",
       "        text-align: right;\n",
       "    }\n",
       "</style>\n",
       "<table border=\"1\" class=\"dataframe\">\n",
       "  <thead>\n",
       "    <tr style=\"text-align: right;\">\n",
       "      <th></th>\n",
       "      <th>count</th>\n",
       "      <th>mean</th>\n",
       "      <th>std</th>\n",
       "      <th>min</th>\n",
       "      <th>25%</th>\n",
       "      <th>50%</th>\n",
       "      <th>75%</th>\n",
       "      <th>max</th>\n",
       "    </tr>\n",
       "    <tr>\n",
       "      <th>churn</th>\n",
       "      <th></th>\n",
       "      <th></th>\n",
       "      <th></th>\n",
       "      <th></th>\n",
       "      <th></th>\n",
       "      <th></th>\n",
       "      <th></th>\n",
       "      <th></th>\n",
       "    </tr>\n",
       "  </thead>\n",
       "  <tbody>\n",
       "    <tr>\n",
       "      <th>0</th>\n",
       "      <td>5574.0</td>\n",
       "      <td>37.408504</td>\n",
       "      <td>10.058084</td>\n",
       "      <td>18.0</td>\n",
       "      <td>31.0</td>\n",
       "      <td>36.0</td>\n",
       "      <td>41.0</td>\n",
       "      <td>92.0</td>\n",
       "    </tr>\n",
       "    <tr>\n",
       "      <th>1</th>\n",
       "      <td>1426.0</td>\n",
       "      <td>44.957223</td>\n",
       "      <td>9.698196</td>\n",
       "      <td>18.0</td>\n",
       "      <td>39.0</td>\n",
       "      <td>45.0</td>\n",
       "      <td>51.0</td>\n",
       "      <td>73.0</td>\n",
       "    </tr>\n",
       "  </tbody>\n",
       "</table>\n",
       "</div>"
      ],
      "text/plain": [
       "        count       mean        std   min   25%   50%   75%   max\n",
       "churn                                                            \n",
       "0      5574.0  37.408504  10.058084  18.0  31.0  36.0  41.0  92.0\n",
       "1      1426.0  44.957223   9.698196  18.0  39.0  45.0  51.0  73.0"
      ]
     },
     "execution_count": 33,
     "metadata": {},
     "output_type": "execute_result"
    }
   ],
   "source": [
    "# Descriptive of age by response churn\n",
    "data_train['age'].groupby(data_train['churn']).describe()"
   ]
  },
  {
   "cell_type": "code",
   "execution_count": 34,
   "id": "67f1d1ef",
   "metadata": {},
   "outputs": [
    {
     "data": {
      "text/plain": [
       "<AxesSubplot:xlabel='churn', ylabel='age'>"
      ]
     },
     "execution_count": 34,
     "metadata": {},
     "output_type": "execute_result"
    },
    {
     "data": {
      "image/png": "[encoded data removed]",
      "text/plain": [
       "<Figure size 432x288 with 1 Axes>"
      ]
     },
     "metadata": {
      "needs_background": "light"
     },
     "output_type": "display_data"
    }
   ],
   "source": [
    "# Boxplot of age by response churn\n",
    "sns.boxplot(data = data_train,\n",
    "            x = 'churn',\n",
    "            y = 'age')"
   ]
  },
  {
   "cell_type": "code",
   "execution_count": 35,
   "id": "bc57f3bc",
   "metadata": {},
   "outputs": [
    {
     "data": {
      "text/plain": [
       "<seaborn.axisgrid.FacetGrid at 0x200b577ef40>"
      ]
     },
     "execution_count": 35,
     "metadata": {},
     "output_type": "execute_result"
    },
    {
     "data": {
      "image/png": "[encoded data removed]",
      "text/plain": [
       "<Figure size 402.375x360 with 1 Axes>"
      ]
     },
     "metadata": {
      "needs_background": "light"
     },
     "output_type": "display_data"
    }
   ],
   "source": [
    "# Distribution plot of age by response churn\n",
    "sns.displot(data = data_train,\n",
    "            x = 'age',\n",
    "            hue = 'churn',\n",
    "            kind = 'kde')"
   ]
  },
  {
   "cell_type": "markdown",
   "id": "ff4eabd2",
   "metadata": {},
   "source": [
    "Ringkasan\n",
    "\n",
    "- Rata-rata customer berumur 20 sampai 40 tahun\n",
    "- Pelanggan yang retained didominasi oleh mereka yang berumur rata-rata 35 tahun, dan terdapat ketimpangan antara presentase customer churn dan retain.\n",
    "- Kita tidak dapat secara eksplisit melihat karakteristik pelanggan yang berhenti berdasarkan usia mereka. \n",
    "\n",
    "Wawasan Bisnis:\n",
    "\n",
    "- Tim Operasi dapat memeriksa karakteristik pelanggan dengan usia antara 30-40 tahun, karena peluang untuk mempertahankan pelanggan dalam kelompok ini tampaknya lebih tinggi dibandingkan kelompok lainnya."
   ]
  },
  {
   "cell_type": "markdown",
   "id": "b9cd557c",
   "metadata": {},
   "source": [
    "### Predictor 5: tenure\n",
    "---"
   ]
  },
  {
   "cell_type": "code",
   "execution_count": 36,
   "id": "66b2dc18",
   "metadata": {},
   "outputs": [
    {
     "data": {
      "text/plain": [
       "<AxesSubplot:xlabel='churn', ylabel='tenure'>"
      ]
     },
     "execution_count": 36,
     "metadata": {},
     "output_type": "execute_result"
    },
    {
     "data": {
      "image/png": "[encoded data removed]",
      "text/plain": [
       "<Figure size 432x288 with 1 Axes>"
      ]
     },
     "metadata": {
      "needs_background": "light"
     },
     "output_type": "display_data"
    }
   ],
   "source": [
    "# Boxplot of subscription_age by response churn\n",
    "sns.boxplot(data = data_train,\n",
    "            x = 'churn',\n",
    "            y = 'tenure')"
   ]
  },
  {
   "cell_type": "markdown",
   "id": "9e911480",
   "metadata": {},
   "source": [
    "- Pelanggan yang churn (1) cenderung memiliki masa langganan (tenure) yang lebih rendah dibandingkan pelanggan yang tidak churn (0).\n",
    "- Median tenure pelanggan churn lebih rendah daripada median tenure pelanggan non-churn.\n",
    "- Pelanggan non-churn memiliki distribusi tenure yang lebih menyebar, dengan beberapa pelanggan memiliki tenure yang jauh lebih tinggi.\n",
    "\n",
    "Kesimpulan:\n",
    "Ada hubungan antara lama masa langganan dan kemungkinan pelanggan churn. Pelanggan dengan masa langganan lebih pendek lebih cenderung churn.\n",
    "\n"
   ]
  },
  {
   "cell_type": "code",
   "execution_count": 37,
   "id": "baf1ed90",
   "metadata": {},
   "outputs": [
    {
     "data": {
      "text/plain": [
       "<AxesSubplot:xlabel='tenure', ylabel='Count'>"
      ]
     },
     "execution_count": 37,
     "metadata": {},
     "output_type": "execute_result"
    },
    {
     "data": {
      "image/png": "[encoded data removed]",
      "text/plain": [
       "<Figure size 432x288 with 1 Axes>"
      ]
     },
     "metadata": {
      "needs_background": "light"
     },
     "output_type": "display_data"
    }
   ],
   "source": [
    "# Distribution plot of subscription_age\n",
    "sns.histplot(data = data_train,\n",
    "             x = 'tenure',\n",
    "             bins = 10)"
   ]
  },
  {
   "cell_type": "markdown",
   "id": "0c9b8d52",
   "metadata": {},
   "source": [
    "- Mayoritas pelanggan memiliki tenure yang terdistribusi cukup merata, tetapi ada lonjakan signifikan pada tenure tertinggi (10 tahun). Ini menunjukkan bahwa ada sejumlah pelanggan yang sangat loyal dengan masa langganan maksimum.\n",
    "\n",
    "Kesimpulan:\n",
    "Sebagian besar pelanggan tersebar di seluruh periode tenure, tetapi ada akumulasi pelanggan pada masa langganan maksimum (10 tahun), menunjukkan adanya kelompok pelanggan loyal yang bertahan lama.\n"
   ]
  },
  {
   "cell_type": "markdown",
   "id": "63e7dca2",
   "metadata": {},
   "source": [
    "summary\n",
    "- Pelanggan dengan masa langganan lebih pendek lebih rentan churn, sementara pelanggan dengan masa langganan lebih lama (terutama di puncak tenure) lebih cenderung tetap loyal.\n",
    "- Strategi retensi perlu difokuskan pada pelanggan dengan tenure rendah untuk mengurangi churn."
   ]
  },
  {
   "cell_type": "markdown",
   "id": "880b418f",
   "metadata": {},
   "source": [
    "### Predictor 6: balance\n",
    "---"
   ]
  },
  {
   "cell_type": "code",
   "execution_count": 38,
   "id": "73a95697",
   "metadata": {},
   "outputs": [
    {
     "data": {
      "text/plain": [
       "<AxesSubplot:xlabel='balance', ylabel='Count'>"
      ]
     },
     "execution_count": 38,
     "metadata": {},
     "output_type": "execute_result"
    },
    {
     "data": {
      "image/png": "[encoded data removed]",
      "text/plain": [
       "<Figure size 432x288 with 1 Axes>"
      ]
     },
     "metadata": {
      "needs_background": "light"
     },
     "output_type": "display_data"
    }
   ],
   "source": [
    "# Distribution plot of balance\n",
    "sns.histplot(data = data_train,\n",
    "             x = 'balance',\n",
    "             bins = 12)"
   ]
  },
  {
   "cell_type": "code",
   "execution_count": 39,
   "id": "81af9d08",
   "metadata": {},
   "outputs": [],
   "source": [
    "#Melakukan penyesuaian agar outlier hilang\n",
    "\n",
    "q = data_train['balance'].quantile(0.15)\n",
    "data_train = data_train[data_train['balance']>q]"
   ]
  },
  {
   "cell_type": "code",
   "execution_count": 40,
   "id": "39e2cb66",
   "metadata": {},
   "outputs": [
    {
     "data": {
      "text/plain": [
       "<AxesSubplot:xlabel='balance', ylabel='Count'>"
      ]
     },
     "execution_count": 40,
     "metadata": {},
     "output_type": "execute_result"
    },
    {
     "data": {
      "image/png": "[encoded data removed]",
      "text/plain": [
       "<Figure size 432x288 with 1 Axes>"
      ]
     },
     "metadata": {
      "needs_background": "light"
     },
     "output_type": "display_data"
    }
   ],
   "source": [
    "sns.histplot(data = data_train,\n",
    "             x = 'balance',\n",
    "             bins = 12)"
   ]
  },
  {
   "cell_type": "code",
   "execution_count": 41,
   "id": "248c5262",
   "metadata": {},
   "outputs": [
    {
     "data": {
      "text/plain": [
       "<seaborn.axisgrid.FacetGrid at 0x200b700faf0>"
      ]
     },
     "execution_count": 41,
     "metadata": {},
     "output_type": "execute_result"
    },
    {
     "data": {
      "image/png": "[encoded data removed]",
      "text/plain": [
       "<Figure size 402.375x360 with 1 Axes>"
      ]
     },
     "metadata": {
      "needs_background": "light"
     },
     "output_type": "display_data"
    }
   ],
   "source": [
    "# Distribution plot of balance by response churn\n",
    "sns.displot(data = data_train,\n",
    "            x = 'balance',\n",
    "            hue = 'churn',\n",
    "            kind = 'kde')"
   ]
  },
  {
   "cell_type": "markdown",
   "id": "b37c325d",
   "metadata": {},
   "source": [
    "Pelanggan yang berhenti (churned) dan yang tetap bertahan (retained) tampaknya berasal dari populasi yang heterogen, di mana rata-rata balance antara churn dan retain berbeda cukup jauh.\n",
    "\n",
    "Karena kita belum mendapatkan informasi lebih lanjut tentang variabel ini, kita mengasumsikan bahwa nilai tinggi dari rata-rata balance bukan merupakan outlier."
   ]
  },
  {
   "cell_type": "markdown",
   "id": "296250c4",
   "metadata": {},
   "source": [
    "### Predictor 7: product_number\n",
    "---"
   ]
  },
  {
   "cell_type": "code",
   "execution_count": 42,
   "id": "94eb6436",
   "metadata": {},
   "outputs": [
    {
     "data": {
      "text/plain": [
       "<AxesSubplot:xlabel='products_number', ylabel='count'>"
      ]
     },
     "execution_count": 42,
     "metadata": {},
     "output_type": "execute_result"
    },
    {
     "data": {
      "image/png": "[encoded data removed]",
      "text/plain": [
       "<Figure size 432x288 with 1 Axes>"
      ]
     },
     "metadata": {
      "needs_background": "light"
     },
     "output_type": "display_data"
    }
   ],
   "source": [
    "sns.countplot(data = data_train,\n",
    "              x = 'products_number',\n",
    "              hue = 'churn')"
   ]
  },
  {
   "cell_type": "code",
   "execution_count": 43,
   "id": "2e957270",
   "metadata": {},
   "outputs": [
    {
     "data": {
      "text/plain": [
       "1    5084\n",
       "2    4590\n",
       "3     266\n",
       "4      60\n",
       "Name: products_number, dtype: int64"
      ]
     },
     "execution_count": 43,
     "metadata": {},
     "output_type": "execute_result"
    }
   ],
   "source": [
    "data.products_number.value_counts()"
   ]
  },
  {
   "cell_type": "code",
   "execution_count": 44,
   "id": "b730704c",
   "metadata": {},
   "outputs": [
    {
     "name": "stdout",
     "output_type": "stream",
     "text": [
      "products_number\n",
      "1    0.259221\n",
      "2    0.122126\n",
      "3    0.950000\n",
      "4    1.000000\n",
      "Name: churn, dtype: float64\n"
     ]
    }
   ],
   "source": [
    "churn_rate = data_train.groupby('products_number')['churn'].mean()\n",
    "print(churn_rate)"
   ]
  },
  {
   "cell_type": "code",
   "execution_count": 45,
   "id": "0ad5ebfc",
   "metadata": {},
   "outputs": [
    {
     "data": {
      "image/png": "[encoded data removed]",
      "text/plain": [
       "<Figure size 432x288 with 1 Axes>"
      ]
     },
     "metadata": {
      "needs_background": "light"
     },
     "output_type": "display_data"
    }
   ],
   "source": [
    "sns.barplot(data=data_train, x='products_number', y='churn')\n",
    "plt.title('Churn Rate by Products Number')\n",
    "plt.show()"
   ]
  },
  {
   "cell_type": "markdown",
   "id": "b57b0ee5",
   "metadata": {},
   "source": [
    "- Pelanggan dengan 3 atau 4 produk kemungkinan merasa kurang puas atau mengalami kesulitan dengan layanan/produk tambahan. Bisa jadi produk-produk tersebut tidak relevan atau terlalu kompleks untuk pelanggan tertentu.\n",
    "\n",
    "- Pelanggan dengan 3 dan 4 produk mungkin adalah segmen khusus (misalnya, pelanggan premium atau korporat). Tingginya churn bisa mengindikasikan perlunya pendekatan yang berbeda untuk mendukung segmen ini.\n",
    "\n",
    "summary:\n",
    "- Tingkat churn yang sangat tinggi untuk pelanggan dengan 3 dan 4 produk adalah masalah serius yang memerlukan perhatian. Analisis lebih lanjut diperlukan untuk memahami mengapa hal ini terjadi, tetapi langkah proaktif untuk mempertahankan pelanggan di segmen tersebut harus segera dilakukan."
   ]
  },
  {
   "cell_type": "markdown",
   "id": "232d553f",
   "metadata": {},
   "source": [
    "### Predictor 8: credit card\n",
    "---"
   ]
  },
  {
   "cell_type": "code",
   "execution_count": 46,
   "id": "c9171355",
   "metadata": {},
   "outputs": [
    {
     "data": {
      "text/plain": [
       "1    0.693754\n",
       "0    0.306246\n",
       "Name: credit_card, dtype: float64"
      ]
     },
     "execution_count": 46,
     "metadata": {},
     "output_type": "execute_result"
    }
   ],
   "source": [
    "# Describe proportion of 'credit_card'\n",
    "data_train['credit_card'].value_counts(normalize=True)"
   ]
  },
  {
   "cell_type": "code",
   "execution_count": 47,
   "id": "41c2c01d",
   "metadata": {},
   "outputs": [
    {
     "data": {
      "text/plain": [
       "<AxesSubplot:xlabel='credit_card', ylabel='count'>"
      ]
     },
     "execution_count": 47,
     "metadata": {},
     "output_type": "execute_result"
    },
    {
     "data": {
      "image/png": "[encoded data removed]",
      "text/plain": [
       "<Figure size 432x288 with 1 Axes>"
      ]
     },
     "metadata": {
      "needs_background": "light"
     },
     "output_type": "display_data"
    }
   ],
   "source": [
    "# Describe proportion of churn by 'credit_card'\n",
    "sns.countplot(data = data_train,\n",
    "              x = 'credit_card',\n",
    "              hue = 'churn')"
   ]
  },
  {
   "cell_type": "code",
   "execution_count": 48,
   "id": "4ecd9303",
   "metadata": {},
   "outputs": [
    {
     "name": "stdout",
     "output_type": "stream",
     "text": [
      "Churn and credit_card is independent with P-val=0.5521610859220868.\n"
     ]
    }
   ],
   "source": [
    "# Perform the independence test\n",
    "independence_test('credit_card')"
   ]
  },
  {
   "cell_type": "markdown",
   "id": "0f73c541",
   "metadata": {},
   "source": [
    "### Pelanggan tanpa kartu kredit (`credit_card = 0`):\n",
    "- **Retain**: 1000 pelanggan  \n",
    "- **Churn**: 350 pelanggan  \n",
    "  \n",
    "  Proportion retain = 1000/(1000 + 350) ≈ 74.1\n",
    "   \n",
    "  Proportion churn = 350/(1000 + 350) ≈ 25.9\n",
    "  \n",
    "\n",
    "### Pelanggan dengan kartu kredit (`credit_card = 1`):\n",
    "- **Retain**: 2500 pelanggan  \n",
    "- **Churn**: 750 pelanggan  \n",
    "\n",
    "  Proportion retain} = 2500/(2500 + 750) ≈ 76.9%\n",
    "\n",
    "  Proportion churn} = 750/(2500 + 750) ≈ 23.1%"
   ]
  },
  {
   "cell_type": "markdown",
   "id": "b03db633",
   "metadata": {},
   "source": [
    "- Pelanggan dengan Kartu Kredit Memiliki Retensi Sedikit Lebih Tinggi. Pelanggan dengan kartu kredit memiliki churn rate yang lebih rendah (23.1%) dibandingkan pelanggan tanpa kartu kredit (25.9%). Dengan kata lain, pelanggan dengan kartu kredit lebih cenderung bertahan.\n",
    "\n",
    "- Efek Kartu Kredit Terhadap Churn Tidak Signifikan. Meskipun pelanggan dengan kartu kredit memiliki churn rate yang lebih rendah, perbedaannya tidak terlalu signifikan (25.9% vs 23.1%). Artinya, faktor kartu kredit bukan satu-satunya penyebab utama pelanggan bertahan atau churn.\n",
    "\n",
    "summary:\n",
    "\n",
    "Pelanggan dengan kartu kredit memiliki tingkat retensi yang sedikit lebih tinggi dibandingkan pelanggan tanpa kartu kredit. Namun, kartu kredit bukan satu-satunya faktor yang memengaruhi churn, sehingga perusahaan perlu mengeksplorasi faktor lain untuk mengurangi churn secara keseluruhan."
   ]
  },
  {
   "cell_type": "markdown",
   "id": "e579f4aa",
   "metadata": {},
   "source": [
    "### Predictor 9: active member\n",
    "---"
   ]
  },
  {
   "cell_type": "code",
   "execution_count": 49,
   "id": "7d4830bb",
   "metadata": {},
   "outputs": [
    {
     "data": {
      "text/plain": [
       "1    0.51332\n",
       "0    0.48668\n",
       "Name: active_member, dtype: float64"
      ]
     },
     "execution_count": 49,
     "metadata": {},
     "output_type": "execute_result"
    }
   ],
   "source": [
    "# Describe proportion of 'active_member'\n",
    "data_train['active_member'].value_counts(normalize=True)"
   ]
  },
  {
   "cell_type": "code",
   "execution_count": 50,
   "id": "c5a113dc",
   "metadata": {},
   "outputs": [
    {
     "data": {
      "text/plain": [
       "<AxesSubplot:xlabel='active_member', ylabel='count'>"
      ]
     },
     "execution_count": 50,
     "metadata": {},
     "output_type": "execute_result"
    },
    {
     "data": {
      "image/png": "[encoded data removed]",
      "text/plain": [
       "<Figure size 432x288 with 1 Axes>"
      ]
     },
     "metadata": {
      "needs_background": "light"
     },
     "output_type": "display_data"
    }
   ],
   "source": [
    "# Describe proportion of churn by 'credit_card'\n",
    "sns.countplot(data = data_train,\n",
    "              x = 'active_member',\n",
    "              hue = 'churn')"
   ]
  },
  {
   "cell_type": "markdown",
   "id": "46c25807",
   "metadata": {},
   "source": [
    "### Pelanggan member non-aktif (`active_member = 0`):\n",
    "- **Retain**: 1500 pelanggan  \n",
    "- **Churn**: 700 pelanggan  \n",
    "  \n",
    "  Proportion retain = 1500/(700+1500) ≈ 68.2%\n",
    "   \n",
    "  Proportion churn = 700/(700+1500) ≈ 31.8%\n",
    "  \n",
    "\n",
    "### Pelanggan member aktif (`active_member = 1`):\n",
    "- **Retain**: 1900 pelanggan  \n",
    "- **Churn**: 400 pelanggan  \n",
    "\n",
    "  Proportion retain = 1900/(400+1900) ≈ 82.6%\n",
    "\n",
    "  Proportion churn = 400/(400+1900) ≈ 17.4%\n",
    "  \n",
    "\n",
    "Kesimpulan:\n",
    "- Pelanggan Aktif Memiliki Churn Rate Lebih Rendah:\n",
    "\n",
    "Pelanggan yang aktif (active_member = 1) memiliki churn rate yang jauh lebih rendah (17.4%) dibandingkan pelanggan non-aktif (31.8%).\n",
    "Ini menunjukkan bahwa status aktif pelanggan sangat berhubungan dengan retensi.\n",
    "\n",
    "- Pelanggan Non-Aktif Lebih Rentan Churn:\n",
    "\n",
    "Pelanggan non-aktif (active_member = 0) memiliki kemungkinan churn hampir dua kali lipat dibandingkan pelanggan aktif (31.8% vs. 17.4%).\n",
    "Hal ini dapat mengindikasikan bahwa keterlibatan pelanggan (aktivitas) sangat penting untuk mengurangi churn"
   ]
  },
  {
   "cell_type": "markdown",
   "id": "023caf33",
   "metadata": {},
   "source": [
    "### Predictor 10: estimated salary\n",
    "---"
   ]
  },
  {
   "cell_type": "code",
   "execution_count": 51,
   "id": "da2528ba",
   "metadata": {},
   "outputs": [
    {
     "data": {
      "text/plain": [
       "count      4467.000000\n",
       "mean     100591.382754\n",
       "std       57512.093989\n",
       "min          91.750000\n",
       "25%       51446.105000\n",
       "50%      101139.300000\n",
       "75%      149259.710000\n",
       "max      199970.740000\n",
       "Name: estimated_salary, dtype: float64"
      ]
     },
     "execution_count": 51,
     "metadata": {},
     "output_type": "execute_result"
    }
   ],
   "source": [
    "# Descriptive statistics of 'estimated_salary'\n",
    "data_train['estimated_salary'].describe()"
   ]
  },
  {
   "cell_type": "code",
   "execution_count": 52,
   "id": "509a1d38",
   "metadata": {},
   "outputs": [
    {
     "data": {
      "text/plain": [
       "<AxesSubplot:xlabel='churn', ylabel='estimated_salary'>"
      ]
     },
     "execution_count": 52,
     "metadata": {},
     "output_type": "execute_result"
    },
    {
     "data": {
      "image/png": "[encoded data removed]",
      "text/plain": [
       "<Figure size 432x288 with 1 Axes>"
      ]
     },
     "metadata": {
      "needs_background": "light"
     },
     "output_type": "display_data"
    }
   ],
   "source": [
    "# Boxplot of estimated_salary by response churn\n",
    "sns.boxplot(data = data_train,\n",
    "            x = 'churn',\n",
    "            y = 'estimated_salary')"
   ]
  },
  {
   "cell_type": "markdown",
   "id": "bdb78152",
   "metadata": {},
   "source": [
    "- Distribusi Estimated Salary Mirip untuk Kedua Kategori: Tidak ada perbedaan signifikan dalam distribusi estimated_salary antara pelanggan yang churn (churn = 1) dan yang tidak churn (churn = 0).\n",
    "- Tidak Ada Korelasi Kuat antara Estimated Salary dan Churn: Karena distribusi statistik (kuartil, median, minimum, maksimum) hampir identik, hal ini menunjukkan bahwa estimated_salary mungkin tidak menjadi faktor penting dalam menentukan apakah pelanggan akan churn atau tidak."
   ]
  },
  {
   "cell_type": "code",
   "execution_count": 53,
   "id": "b6b23f84",
   "metadata": {},
   "outputs": [
    {
     "data": {
      "image/png": "[encoded data removed]",
      "text/plain": [
       "<Figure size 432x288 with 1 Axes>"
      ]
     },
     "metadata": {
      "needs_background": "light"
     },
     "output_type": "display_data"
    }
   ],
   "source": [
    "sns.barplot(data=data_train, x='churn', y='estimated_salary')\n",
    "plt.title('Average Estimated Salary by Churn Status')\n",
    "plt.show()"
   ]
  },
  {
   "cell_type": "markdown",
   "id": "6a9ea13a",
   "metadata": {},
   "source": [
    "- Perbedaan yang Tidak Signifikan: Perbedaan rata-rata estimated_salary antara pelanggan churn dan tidak churn sangat kecil. Hal ini menunjukkan bahwa estimated_salary mungkin bukan faktor yang signifikan dalam memengaruhi keputusan pelanggan untuk churn.\n",
    "- Hubungan Lemah dengan Churn: Jika estimated_salary digunakan sebagai variabel prediktor dalam model churn, pengaruhnya kemungkinan kecil karena rata-rata antara kedua kelompok hampir sama."
   ]
  },
  {
   "cell_type": "markdown",
   "id": "49bb1f7e",
   "metadata": {},
   "source": [
    "## 4. Preprocessing"
   ]
  },
  {
   "cell_type": "code",
   "execution_count": 54,
   "id": "06d2138f",
   "metadata": {},
   "outputs": [
    {
     "data": {
      "text/plain": [
       "credit_score        False\n",
       "country             False\n",
       "gender              False\n",
       "age                 False\n",
       "tenure              False\n",
       "balance             False\n",
       "products_number     False\n",
       "credit_card         False\n",
       "active_member       False\n",
       "estimated_salary    False\n",
       "churn               False\n",
       "dtype: bool"
      ]
     },
     "execution_count": 54,
     "metadata": {},
     "output_type": "execute_result"
    }
   ],
   "source": [
    "# Checking missing value\n",
    "data_train.isnull().any()"
   ]
  },
  {
   "cell_type": "code",
   "execution_count": 55,
   "id": "83693eb5",
   "metadata": {},
   "outputs": [
    {
     "data": {
      "text/plain": [
       "credit_score        0\n",
       "country             0\n",
       "gender              0\n",
       "age                 0\n",
       "tenure              0\n",
       "balance             0\n",
       "products_number     0\n",
       "credit_card         0\n",
       "active_member       0\n",
       "estimated_salary    0\n",
       "dtype: int64"
      ]
     },
     "execution_count": 55,
     "metadata": {},
     "output_type": "execute_result"
    }
   ],
   "source": [
    "X_train.isna().sum()"
   ]
  },
  {
   "cell_type": "markdown",
   "id": "f1f34db9",
   "metadata": {},
   "source": [
    "## 5. Model Selection"
   ]
  },
  {
   "cell_type": "markdown",
   "id": "bc5f25c1",
   "metadata": {},
   "source": [
    "Until now, we already:\n",
    "1. Split the training and testing set.\n",
    "  - Therefore, we have `X_train` and `y_train` from training set and `X_test` and `y_test` from testing set.\n",
    "2. Perform EDA on training set.\n",
    "3. Pre-processing missing values on `X_train`.\n",
    "  - Therefore, we got `X_train_clean` with no missing values.\n",
    "\n",
    "From there, we have 9 potential predictors in `X_train_clean` to predict customer churn.\n",
    "\n",
    "Here we will perform variable selection to decide which predictor variables give the optimum model estimation fit and the optimum predictive performance.\n",
    "\n",
    "We call that optimum model as the best model from the variable selection.\n",
    "\n",
    "- We will use the **Forward Selection** procedure since we have relatively many predictors.\n",
    "- We use the **AIC** value to choose the best model, in which the model with the smallest AIC is the best model.\n",
    "- To find the valid AIC value from each possible model, we use **5-Fold Cross-Validation** to calculate the AIC score."
   ]
  },
  {
   "cell_type": "code",
   "execution_count": 56,
   "id": "0c947e20",
   "metadata": {},
   "outputs": [
    {
     "name": "stdout",
     "output_type": "stream",
     "text": [
      "<class 'pandas.core.frame.DataFrame'>\n",
      "Int64Index: 7000 entries, 5452 to 1544\n",
      "Data columns (total 10 columns):\n",
      " #   Column            Non-Null Count  Dtype  \n",
      "---  ------            --------------  -----  \n",
      " 0   credit_score      7000 non-null   int64  \n",
      " 1   country           7000 non-null   int32  \n",
      " 2   gender            7000 non-null   int32  \n",
      " 3   age               7000 non-null   int64  \n",
      " 4   tenure            7000 non-null   int64  \n",
      " 5   balance           7000 non-null   float64\n",
      " 6   products_number   7000 non-null   int64  \n",
      " 7   credit_card       7000 non-null   int64  \n",
      " 8   active_member     7000 non-null   int64  \n",
      " 9   estimated_salary  7000 non-null   float64\n",
      "dtypes: float64(2), int32(2), int64(6)\n",
      "memory usage: 804.9 KB\n"
     ]
    }
   ],
   "source": [
    "X_train_clean = X_train\n",
    "X_train.info()"
   ]
  },
  {
   "cell_type": "markdown",
   "id": "73051226",
   "metadata": {},
   "source": [
    "### Load Functions for Model Selection\n",
    "---\n",
    "\n",
    "- AIC, KFold, and Forward Selection"
   ]
  },
  {
   "cell_type": "code",
   "execution_count": 57,
   "id": "c267c6a0",
   "metadata": {},
   "outputs": [],
   "source": [
    "def AIC(y_true, y_pred, p):\n",
    "    \"\"\"\n",
    "    Function to split sample with validation set approach.\n",
    "\n",
    "    Parameters\n",
    "    ----------\n",
    "    y_true : {array-like} of shape (n_sample, )\n",
    "        Actual value of response variable.\n",
    "\n",
    "    y_pred : {array-like} of shape (n_sample, 1)\n",
    "        The success probability of X.\n",
    "\n",
    "    p : int\n",
    "        Number of parameters in model.\n",
    "\n",
    "    Returns\n",
    "    -------\n",
    "    aic : float\n",
    "        AIC value.\n",
    "    \"\"\"\n",
    "    # Find the average log likelihood value\n",
    "    llf = np.mean(y_true*np.log(y_pred) + (1-y_true)*np.log(1-y_pred))\n",
    "\n",
    "    # AIC value is sensitive to number of parameters\n",
    "    # The average log likelihood represent value for 1 unit observation\n",
    "    # AIC from average llf is not comparable\n",
    "    # Multiply llf by n_sample=173 to make its AIC comparable\n",
    "    llf *= data_train.shape[0]\n",
    "\n",
    "    # Calculate AIC\n",
    "    aic = -2 * (llf - p)\n",
    "\n",
    "    return aic\n"
   ]
  },
  {
   "cell_type": "code",
   "execution_count": 58,
   "id": "de7f36a0",
   "metadata": {},
   "outputs": [],
   "source": [
    "def kfold_split(X, k=5, random_state=42):\n",
    "    \"\"\"\n",
    "    Function to split sample with validation set approach.\n",
    "\n",
    "    Parameters\n",
    "    ----------\n",
    "    X : {array-like} of shape (n_sample, n_predictors)\n",
    "        All predictors set.\n",
    "\n",
    "    k : int, default = 5\n",
    "        Number of folds.\n",
    "\n",
    "    random_state : int\n",
    "        Pass an int for reproducible output across multiple function calls.\n",
    "\n",
    "    Returns\n",
    "    -------\n",
    "    train_ind_list : list\n",
    "        Contains data index of train set.\n",
    "\n",
    "    valid_ind_list : list\n",
    "        Contains data index of validation set.\n",
    "    \"\"\"\n",
    "    # Extract sample size\n",
    "    n_samples, _ = X.shape\n",
    "\n",
    "    # Set random state\n",
    "    np.random.seed(random_state)\n",
    "\n",
    "    # # Randomize index\n",
    "    random_ind = np.random.choice(n_samples,\n",
    "                                  size = n_samples,\n",
    "                                  replace = False)\n",
    "\n",
    "    # Calculate size of each fold\n",
    "    fold_sizes = np.ones(k, dtype=int) * (n_samples//k)\n",
    "    fold_sizes[:n_samples%k] += 1\n",
    "\n",
    "    # Define initial list for each train and valid index\n",
    "    train_ind_list = []\n",
    "    valid_ind_list = []\n",
    "\n",
    "    # Split sample\n",
    "    current_ind = 0\n",
    "    for size in fold_sizes:\n",
    "        # Define index\n",
    "        start_ind = current_ind\n",
    "        end_ind = current_ind + size\n",
    "\n",
    "        # Slice valid set\n",
    "        # One fold for valid set, the remaining for train set\n",
    "        valid_ind = random_ind[start_ind:end_ind]\n",
    "        train_ind = np.concatenate((random_ind[:start_ind],\n",
    "                                    random_ind[end_ind:]))\n",
    "\n",
    "        # Update current index\n",
    "        current_ind = end_ind\n",
    "\n",
    "        # Append train and valid index in list\n",
    "        train_ind_list.append(train_ind)\n",
    "        valid_ind_list.append(valid_ind)\n",
    "\n",
    "    return train_ind_list, valid_ind_list\n"
   ]
  },
  {
   "cell_type": "code",
   "execution_count": 59,
   "id": "098a43b8",
   "metadata": {},
   "outputs": [],
   "source": [
    "def cross_validate(X, y, method, cv, random_state=42):\n",
    "    \"\"\"\n",
    "    Function to evaluate AIC by cross-validation method.\n",
    "\n",
    "    Parameters\n",
    "    ----------\n",
    "    X : {array-like} of shape (n_sample, n_predictors)\n",
    "        The independent variable or predictors.\n",
    "\n",
    "    y : {array-like} of shape (n_sample, )\n",
    "        The dependent or response variable.\n",
    "\n",
    "    method : cross-validation splitter\n",
    "        Cross-validation method.\n",
    "\n",
    "    cv : int\n",
    "        Number of folds for k-Fold CV.\n",
    "\n",
    "    random_state : int, default=42\n",
    "        Pass an int for reproducible output across multiple function calls.\n",
    "\n",
    "    Returns\n",
    "    -------\n",
    "    score : float\n",
    "        The average AIC score.\n",
    "    \"\"\"\n",
    "    # Split train and valid set based on CV method\n",
    "    if method == \"validation_set\":\n",
    "        train_ind_list, valid_ind_list = validation_set_split(X = X,\n",
    "                                                              random_state = random_state)\n",
    "    elif method == \"loocv\":\n",
    "        train_ind_list, valid_ind_list = loocv_split(X = X)\n",
    "    elif method == \"kfold\":\n",
    "        train_ind_list, valid_ind_list = kfold_split(X = X,\n",
    "                                                     k = cv,\n",
    "                                                     random_state = random_state)\n",
    "\n",
    "    # Define the number of train sets\n",
    "    n_split = len(train_ind_list)\n",
    "\n",
    "    # Initialize AIC score list for each valid set\n",
    "    score_list = []\n",
    "\n",
    "    for i in range(n_split):\n",
    "        # Extract data from index\n",
    "        X_train = X[train_ind_list[i]]\n",
    "        y_train = y[train_ind_list[i]]\n",
    "        X_valid = X[valid_ind_list[i]]\n",
    "        y_valid = y[valid_ind_list[i]]\n",
    "\n",
    "        # Add constant\n",
    "        X_train = sm.add_constant(X_train, has_constant=\"add\")\n",
    "        X_valid = sm.add_constant(X_valid, has_constant=\"add\")\n",
    "\n",
    "        # Fitting model\n",
    "        model = sm.Logit(y_train, X_train)\n",
    "        results = model.fit(disp=False)\n",
    "\n",
    "        # Calculate success probability\n",
    "        y_pred_train = results.predict(X_train)\n",
    "        y_pred_valid = results.predict(X_valid)\n",
    "\n",
    "        # Calculate AIC\n",
    "        aic_train = AIC(y_true = y_train,\n",
    "                        y_pred = y_pred_train,\n",
    "                        p = X_train.shape[1])\n",
    "        aic_valid = AIC(y_true = y_valid,\n",
    "                        y_pred = y_pred_valid,\n",
    "                        p = X_train.shape[1])\n",
    "\n",
    "        # Append AIC score in list\n",
    "        score_list.append(aic_valid)\n",
    "\n",
    "    # Calculate CV Score\n",
    "    score = np.mean(score_list)\n",
    "\n",
    "    return score\n"
   ]
  },
  {
   "cell_type": "code",
   "execution_count": 60,
   "id": "a439ed8d",
   "metadata": {},
   "outputs": [],
   "source": [
    "def forward(X, y, predictors, method, cv=5, random_state=42):\n",
    "    \"\"\"\n",
    "    Function to perform best subset selection procedure.\n",
    "\n",
    "    Parameters\n",
    "    ----------\n",
    "    X : {array-like} of shape (n_sample, n_predictors)\n",
    "        All predictors set.\n",
    "\n",
    "    y : {array-like} of shape (n_sample, )\n",
    "        The dependent or response variable.\n",
    "\n",
    "    predictors : {array-like} of shape (n_sample, )\n",
    "        Index of predictors\n",
    "\n",
    "    method : cross-validation splitter\n",
    "        Cross-validation method.\n",
    "\n",
    "    cv : int, default=5\n",
    "        Number of folds for k-Fold CV.\n",
    "\n",
    "    random_state : int, default=42\n",
    "        Pass an int for reproducible output across multiple function calls.\n",
    "\n",
    "    Returns\n",
    "    -------\n",
    "    models : {array-like} of shape (n_combinations, k)\n",
    "        Summary of predictors and its AIC score for each possible combination.\n",
    "\n",
    "    best_model : {array-like} of shape (2, )\n",
    "        Best model of models with the smallest AIC score.\n",
    "    \"\"\"\n",
    "\n",
    "    # Initialize list of results\n",
    "    results = []\n",
    "\n",
    "    # Define sample size and  number of all predictors\n",
    "    n_samples, n_predictors = X.shape\n",
    "\n",
    "    # Define list of all predictors\n",
    "    col_list = np.arange(n_predictors)\n",
    "\n",
    "    # Define remaining predictors for each k\n",
    "    remaining_predictors = [p for p in col_list if p not in predictors]\n",
    "\n",
    "    # Initialize list of predictors and its CV Score\n",
    "    pred_list = []\n",
    "    score_list = []\n",
    "\n",
    "    # Cross validate each possible combination of remaining predictors\n",
    "    for p in remaining_predictors:\n",
    "        combi = predictors + [p]\n",
    "\n",
    "        # Extract predictors combination\n",
    "        X_ = X[:, combi]\n",
    "        y_ = y\n",
    "\n",
    "        # Cross validate to get CV Score\n",
    "        score_ = cross_validate(X = X_,\n",
    "                                y = y_,\n",
    "                                method = method,\n",
    "                                cv = cv,\n",
    "                                random_state = random_state)\n",
    "\n",
    "        # Append predictors combination and its CV Score to the list\n",
    "        pred_list.append(list(combi))\n",
    "        score_list.append(score_)\n",
    "\n",
    "    # Tabulate the results\n",
    "    models = pd.DataFrame({\"Predictors\": pred_list,\n",
    "                            \"AIC\": score_list})\n",
    "\n",
    "    # Choose the best model\n",
    "    best_model = models.loc[models[\"AIC\"].argmin()]\n",
    "\n",
    "    return models, best_model"
   ]
  },
  {
   "cell_type": "markdown",
   "id": "2326e260",
   "metadata": {},
   "source": [
    "### Forward Selection Procedure\n",
    "---"
   ]
  },
  {
   "cell_type": "markdown",
   "id": "37eee98a",
   "metadata": {},
   "source": [
    "We are ready to perform the Forward Selection procedure.\n",
    "\n",
    "- Begin with fitting the null model.\n",
    "- Then perform the Forward Selection procedure by adding one predictor that make the smallest AIC score, one-at-a-time.\n",
    "- Therefore, from `X_train_clean` containing 10 predictors, we will have 10 best models from each possible number of predictors in model."
   ]
  },
  {
   "cell_type": "code",
   "execution_count": 61,
   "id": "84692c68",
   "metadata": {},
   "outputs": [
    {
     "name": "stdout",
     "output_type": "stream",
     "text": [
      "X_train shape: (7000, 10)\n",
      "y_train shape: (7000,)\n"
     ]
    }
   ],
   "source": [
    "# Convert dataframe to numpy\n",
    "X_train_clean = X_train_clean.to_numpy()\n",
    "y_train = y_train.to_numpy()\n",
    "\n",
    "# Validate\n",
    "print('X_train shape:', X_train_clean.shape)\n",
    "print('y_train shape:', y_train.shape)"
   ]
  },
  {
   "cell_type": "code",
   "execution_count": 62,
   "id": "43b2c033",
   "metadata": {},
   "outputs": [
    {
     "data": {
      "text/html": [
       "<div>\n",
       "<style scoped>\n",
       "    .dataframe tbody tr th:only-of-type {\n",
       "        vertical-align: middle;\n",
       "    }\n",
       "\n",
       "    .dataframe tbody tr th {\n",
       "        vertical-align: top;\n",
       "    }\n",
       "\n",
       "    .dataframe thead th {\n",
       "        text-align: right;\n",
       "    }\n",
       "</style>\n",
       "<table border=\"1\" class=\"dataframe\">\n",
       "  <thead>\n",
       "    <tr style=\"text-align: right;\">\n",
       "      <th></th>\n",
       "      <th>Predictors</th>\n",
       "      <th>AIC</th>\n",
       "    </tr>\n",
       "  </thead>\n",
       "  <tbody>\n",
       "    <tr>\n",
       "      <th>0</th>\n",
       "      <td>[]</td>\n",
       "      <td>4520.904794</td>\n",
       "    </tr>\n",
       "  </tbody>\n",
       "</table>\n",
       "</div>"
      ],
      "text/plain": [
       "  Predictors          AIC\n",
       "0         []  4520.904794"
      ]
     },
     "execution_count": 62,
     "metadata": {},
     "output_type": "execute_result"
    }
   ],
   "source": [
    "# Fit null model\n",
    "predictor = []\n",
    "score_ = cross_validate(X = X_train_clean[:, predictor],\n",
    "                        y = y_train,\n",
    "                        method = 'kfold',\n",
    "                        cv = 5,\n",
    "                        random_state = 42)\n",
    "\n",
    "# Create table for the best model of each k predictors\n",
    "# Append the results of null model\n",
    "forward_models = pd.DataFrame({\"Predictors\": [predictor],\n",
    "                               \"AIC\": [score_]})\n",
    "\n",
    "forward_models"
   ]
  },
  {
   "cell_type": "code",
   "execution_count": 63,
   "id": "a2e4b47a",
   "metadata": {},
   "outputs": [],
   "source": [
    "# Define list of predictors\n",
    "predictors = []\n",
    "n_predictors = X_train_clean.shape[1]\n",
    "\n",
    "# Perform forward selection procedure for k=1,...,5 predictors\n",
    "for k in range(n_predictors):\n",
    "    _, best_model = forward(X = X_train_clean,\n",
    "                            y = y_train,\n",
    "                            predictors = predictors,\n",
    "                            method = \"kfold\",\n",
    "                            cv = 5,\n",
    "                            random_state = 42)\n",
    "\n",
    "    # Tabulate the best model of each k predictors\n",
    "    forward_models.loc[k+1] = best_model\n",
    "    predictors = best_model[\"Predictors\"]"
   ]
  },
  {
   "cell_type": "code",
   "execution_count": 64,
   "id": "3996efe0",
   "metadata": {},
   "outputs": [
    {
     "data": {
      "text/html": [
       "<div>\n",
       "<style scoped>\n",
       "    .dataframe tbody tr th:only-of-type {\n",
       "        vertical-align: middle;\n",
       "    }\n",
       "\n",
       "    .dataframe tbody tr th {\n",
       "        vertical-align: top;\n",
       "    }\n",
       "\n",
       "    .dataframe thead th {\n",
       "        text-align: right;\n",
       "    }\n",
       "</style>\n",
       "<table border=\"1\" class=\"dataframe\">\n",
       "  <thead>\n",
       "    <tr style=\"text-align: right;\">\n",
       "      <th></th>\n",
       "      <th>Predictors</th>\n",
       "      <th>AIC</th>\n",
       "    </tr>\n",
       "  </thead>\n",
       "  <tbody>\n",
       "    <tr>\n",
       "      <th>0</th>\n",
       "      <td>[]</td>\n",
       "      <td>4520.904794</td>\n",
       "    </tr>\n",
       "    <tr>\n",
       "      <th>1</th>\n",
       "      <td>[3]</td>\n",
       "      <td>4170.241803</td>\n",
       "    </tr>\n",
       "    <tr>\n",
       "      <th>2</th>\n",
       "      <td>[3, 8]</td>\n",
       "      <td>3992.516831</td>\n",
       "    </tr>\n",
       "    <tr>\n",
       "      <th>3</th>\n",
       "      <td>[3, 8, 5]</td>\n",
       "      <td>3947.777727</td>\n",
       "    </tr>\n",
       "    <tr>\n",
       "      <th>4</th>\n",
       "      <td>[3, 8, 5, 2]</td>\n",
       "      <td>3902.350312</td>\n",
       "    </tr>\n",
       "    <tr>\n",
       "      <th>5</th>\n",
       "      <td>[3, 8, 5, 2, 0]</td>\n",
       "      <td>3899.269470</td>\n",
       "    </tr>\n",
       "    <tr>\n",
       "      <th>6</th>\n",
       "      <td>[3, 8, 5, 2, 0, 1]</td>\n",
       "      <td>3900.006678</td>\n",
       "    </tr>\n",
       "    <tr>\n",
       "      <th>7</th>\n",
       "      <td>[3, 8, 5, 2, 0, 1, 6]</td>\n",
       "      <td>3902.628516</td>\n",
       "    </tr>\n",
       "    <tr>\n",
       "      <th>8</th>\n",
       "      <td>[3, 8, 5, 2, 0, 1, 6, 9]</td>\n",
       "      <td>3905.829082</td>\n",
       "    </tr>\n",
       "    <tr>\n",
       "      <th>9</th>\n",
       "      <td>[3, 8, 5, 2, 0, 1, 6, 9, 7]</td>\n",
       "      <td>3909.035446</td>\n",
       "    </tr>\n",
       "    <tr>\n",
       "      <th>10</th>\n",
       "      <td>[3, 8, 5, 2, 0, 1, 6, 9, 7, 4]</td>\n",
       "      <td>3913.316773</td>\n",
       "    </tr>\n",
       "  </tbody>\n",
       "</table>\n",
       "</div>"
      ],
      "text/plain": [
       "                        Predictors          AIC\n",
       "0                               []  4520.904794\n",
       "1                              [3]  4170.241803\n",
       "2                           [3, 8]  3992.516831\n",
       "3                        [3, 8, 5]  3947.777727\n",
       "4                     [3, 8, 5, 2]  3902.350312\n",
       "5                  [3, 8, 5, 2, 0]  3899.269470\n",
       "6               [3, 8, 5, 2, 0, 1]  3900.006678\n",
       "7            [3, 8, 5, 2, 0, 1, 6]  3902.628516\n",
       "8         [3, 8, 5, 2, 0, 1, 6, 9]  3905.829082\n",
       "9      [3, 8, 5, 2, 0, 1, 6, 9, 7]  3909.035446\n",
       "10  [3, 8, 5, 2, 0, 1, 6, 9, 7, 4]  3913.316773"
      ]
     },
     "execution_count": 64,
     "metadata": {},
     "output_type": "execute_result"
    }
   ],
   "source": [
    "# Print the best model of each k predictors\n",
    "forward_models"
   ]
  },
  {
   "cell_type": "markdown",
   "id": "1f83f228",
   "metadata": {},
   "source": [
    "Next, find the best model with the smallest AIC score."
   ]
  },
  {
   "cell_type": "code",
   "execution_count": 65,
   "id": "d830a428",
   "metadata": {},
   "outputs": [
    {
     "name": "stdout",
     "output_type": "stream",
     "text": [
      "Best index            : 5\n",
      "Best AIC              : 3899.2694697516395\n",
      "Best predictors (idx) : [3, 8, 5, 2, 0]\n",
      "Best predictors       :\n",
      "['age', 'active_member', 'balance', 'gender', 'credit_score']\n"
     ]
    }
   ],
   "source": [
    "# Find the best AIC score\n",
    "best_idx = forward_models['AIC'].argmin()\n",
    "best_AIC = forward_models['AIC'].loc[best_idx]\n",
    "best_predictors = forward_models['Predictors'].loc[best_idx]\n",
    "\n",
    "# print\n",
    "print('Best index            :', best_idx)\n",
    "print('Best AIC              :', best_AIC)\n",
    "print('Best predictors (idx) :', best_predictors)\n",
    "print('Best predictors       :')\n",
    "print(X_train.columns[best_predictors].tolist())"
   ]
  },
  {
   "cell_type": "markdown",
   "id": "a85874e5",
   "metadata": {},
   "source": [
    "**Refit** the best model on whole `X_train_clean` data."
   ]
  },
  {
   "cell_type": "code",
   "execution_count": 66,
   "id": "e24ba874",
   "metadata": {},
   "outputs": [
    {
     "name": "stdout",
     "output_type": "stream",
     "text": [
      "Optimization terminated successfully.\n",
      "         Current function value: 0.433660\n",
      "         Iterations 6\n",
      "                           Logit Regression Results                           \n",
      "==============================================================================\n",
      "Dep. Variable:                      y   No. Observations:                 7000\n",
      "Model:                          Logit   Df Residuals:                     6994\n",
      "Method:                           MLE   Df Model:                            5\n",
      "Date:                Wed, 15 Jan 2025   Pseudo R-squ.:                  0.1421\n",
      "Time:                        19:49:25   Log-Likelihood:                -3035.6\n",
      "converged:                       True   LL-Null:                       -3538.6\n",
      "Covariance Type:            nonrobust   LLR p-value:                3.208e-215\n",
      "==============================================================================\n",
      "                 coef    std err          z      P>|z|      [0.025      0.975]\n",
      "------------------------------------------------------------------------------\n",
      "const         -3.4268      0.255    -13.442      0.000      -3.926      -2.927\n",
      "x1             0.0753      0.003     24.338      0.000       0.069       0.081\n",
      "x2            -1.0940      0.069    -15.934      0.000      -1.229      -0.959\n",
      "x3          4.648e-06   5.31e-07      8.746      0.000    3.61e-06    5.69e-06\n",
      "x4            -0.5629      0.065     -8.709      0.000      -0.690      -0.436\n",
      "x5            -0.0010      0.000     -2.889      0.004      -0.002      -0.000\n",
      "==============================================================================\n"
     ]
    }
   ],
   "source": [
    "# Define X with best predictors\n",
    "X_train_best = X_train_clean[:, best_predictors]\n",
    "\n",
    "# Fit best model\n",
    "X_train_best = sm.add_constant(X_train_best)\n",
    "best_model = sm.Logit(y_train, X_train_best)\n",
    "best_model_result = best_model.fit()\n",
    "\n",
    "print(best_model_result.summary())"
   ]
  },
  {
   "cell_type": "markdown",
   "id": "8f581da4",
   "metadata": {},
   "source": [
    "Check the AIC from the best model that fitted on `X_train_best`."
   ]
  },
  {
   "cell_type": "code",
   "execution_count": 67,
   "id": "cb0cbcf2",
   "metadata": {},
   "outputs": [
    {
     "data": {
      "text/plain": [
       "6083.242035997263"
      ]
     },
     "execution_count": 67,
     "metadata": {},
     "output_type": "execute_result"
    }
   ],
   "source": [
    "# Extract the AIC\n",
    "best_model_result.aic"
   ]
  },
  {
   "cell_type": "markdown",
   "id": "c5e7cd7b",
   "metadata": {},
   "source": [
    "Extract the best model' parameter estimates."
   ]
  },
  {
   "cell_type": "code",
   "execution_count": 68,
   "id": "4c880afd",
   "metadata": {},
   "outputs": [
    {
     "data": {
      "text/html": [
       "<div>\n",
       "<style scoped>\n",
       "    .dataframe tbody tr th:only-of-type {\n",
       "        vertical-align: middle;\n",
       "    }\n",
       "\n",
       "    .dataframe tbody tr th {\n",
       "        vertical-align: top;\n",
       "    }\n",
       "\n",
       "    .dataframe thead th {\n",
       "        text-align: right;\n",
       "    }\n",
       "</style>\n",
       "<table border=\"1\" class=\"dataframe\">\n",
       "  <thead>\n",
       "    <tr style=\"text-align: right;\">\n",
       "      <th></th>\n",
       "      <th>weights</th>\n",
       "      <th>OR</th>\n",
       "    </tr>\n",
       "  </thead>\n",
       "  <tbody>\n",
       "    <tr>\n",
       "      <th>constant</th>\n",
       "      <td>-3.426826</td>\n",
       "      <td>0.032490</td>\n",
       "    </tr>\n",
       "    <tr>\n",
       "      <th>age</th>\n",
       "      <td>0.075273</td>\n",
       "      <td>1.078178</td>\n",
       "    </tr>\n",
       "    <tr>\n",
       "      <th>active_member</th>\n",
       "      <td>-1.094012</td>\n",
       "      <td>0.334870</td>\n",
       "    </tr>\n",
       "    <tr>\n",
       "      <th>balance</th>\n",
       "      <td>0.000005</td>\n",
       "      <td>1.000005</td>\n",
       "    </tr>\n",
       "    <tr>\n",
       "      <th>gender</th>\n",
       "      <td>-0.562855</td>\n",
       "      <td>0.569581</td>\n",
       "    </tr>\n",
       "    <tr>\n",
       "      <th>credit_score</th>\n",
       "      <td>-0.000964</td>\n",
       "      <td>0.999037</td>\n",
       "    </tr>\n",
       "  </tbody>\n",
       "</table>\n",
       "</div>"
      ],
      "text/plain": [
       "                weights        OR\n",
       "constant      -3.426826  0.032490\n",
       "age            0.075273  1.078178\n",
       "active_member -1.094012  0.334870\n",
       "balance        0.000005  1.000005\n",
       "gender        -0.562855  0.569581\n",
       "credit_score  -0.000964  0.999037"
      ]
     },
     "execution_count": 68,
     "metadata": {},
     "output_type": "execute_result"
    }
   ],
   "source": [
    "best_model_params = ['constant'] + X_train.columns[best_predictors].tolist()\n",
    "best_model_summary = pd.DataFrame({\n",
    "                                    'weights': best_model_result.params,\n",
    "                                    'OR': np.exp(best_model_result.params)\n",
    "                                  },\n",
    "                                  index = best_model_params)\n",
    "\n",
    "best_model_summary"
   ]
  },
  {
   "cell_type": "markdown",
   "id": "c514370b",
   "metadata": {},
   "source": [
    "## 6. Model Evaluation"
   ]
  },
  {
   "cell_type": "code",
   "execution_count": 69,
   "id": "063c048e",
   "metadata": {},
   "outputs": [
    {
     "data": {
      "text/plain": [
       "credit_score        0\n",
       "country             0\n",
       "gender              0\n",
       "age                 0\n",
       "tenure              0\n",
       "balance             0\n",
       "products_number     0\n",
       "credit_card         0\n",
       "active_member       0\n",
       "estimated_salary    0\n",
       "dtype: int64"
      ]
     },
     "execution_count": 69,
     "metadata": {},
     "output_type": "execute_result"
    }
   ],
   "source": [
    "X_test.isna().sum()"
   ]
  },
  {
   "cell_type": "code",
   "execution_count": 70,
   "id": "7e684a30",
   "metadata": {},
   "outputs": [],
   "source": [
    "X_test_clean = X_test"
   ]
  },
  {
   "cell_type": "code",
   "execution_count": 71,
   "id": "bfa5987b",
   "metadata": {},
   "outputs": [
    {
     "data": {
      "text/plain": [
       "(3000, 10)"
      ]
     },
     "execution_count": 71,
     "metadata": {},
     "output_type": "execute_result"
    }
   ],
   "source": [
    "# Check the data shape\n",
    "X_test_clean.shape"
   ]
  },
  {
   "cell_type": "code",
   "execution_count": 72,
   "id": "34185ee1",
   "metadata": {},
   "outputs": [
    {
     "data": {
      "text/plain": [
       "credit_score        0\n",
       "country             0\n",
       "gender              0\n",
       "age                 0\n",
       "tenure              0\n",
       "balance             0\n",
       "products_number     0\n",
       "credit_card         0\n",
       "active_member       0\n",
       "estimated_salary    0\n",
       "dtype: int64"
      ]
     },
     "execution_count": 72,
     "metadata": {},
     "output_type": "execute_result"
    }
   ],
   "source": [
    "# Validate\n",
    "X_test_clean.isna().sum()"
   ]
  },
  {
   "cell_type": "code",
   "execution_count": 73,
   "id": "ba37377d",
   "metadata": {},
   "outputs": [
    {
     "name": "stdout",
     "output_type": "stream",
     "text": [
      "X test shape: (3000, 10)\n",
      "y test shape: (3000,)\n"
     ]
    }
   ],
   "source": [
    "# Convert to NumPy\n",
    "X_test_clean = X_test_clean.to_numpy()\n",
    "y_test = y_test.to_numpy()\n",
    "\n",
    "# validate\n",
    "print('X test shape:', X_test_clean.shape)\n",
    "print('y test shape:', y_test.shape)"
   ]
  },
  {
   "cell_type": "code",
   "execution_count": 74,
   "id": "77e376ca",
   "metadata": {},
   "outputs": [
    {
     "data": {
      "text/plain": [
       "array([0.3068742 , 0.37831307, 0.04589313, ..., 0.37797693, 0.04197876,\n",
       "       0.20041967])"
      ]
     },
     "execution_count": 74,
     "metadata": {},
     "output_type": "execute_result"
    }
   ],
   "source": [
    "# Predict the X_test\n",
    "X_test_best = X_test_clean[:, best_predictors]\n",
    "X_test_sm = sm.add_constant(X_test_best)\n",
    "\n",
    "predict_proba = best_model_result.predict(X_test_sm)\n",
    "predict_proba"
   ]
  },
  {
   "cell_type": "code",
   "execution_count": 75,
   "id": "6bc71e79",
   "metadata": {},
   "outputs": [
    {
     "data": {
      "text/plain": [
       "3945.8144762082875"
      ]
     },
     "execution_count": 75,
     "metadata": {},
     "output_type": "execute_result"
    }
   ],
   "source": [
    "aic_test = AIC(y_true = y_test,\n",
    "               y_pred = predict_proba,\n",
    "               p = best_idx)\n",
    "aic_test"
   ]
  },
  {
   "cell_type": "markdown",
   "id": "3f0e7d2a",
   "metadata": {},
   "source": [
    "To summarize:\n",
    "\n",
    "<center>\n",
    "\n",
    "|AIC Train|AIC Test|\n",
    "|:--:|:--:|\n",
    "|6083.24|3945.81|\n",
    "\n",
    "</center>\n",
    "\n",
    "- Nilai AIC pada data testing lebih rendah daripada data training. Ini menunjukkan bahwa model tidak overfitting, karena model dapat menangani data baru dengan lebih baik dibanding data yang dilatih.\n",
    "\n",
    "- Perbedaan nilai AIC yang signifikan mungkin menunjukkan bahwa data training memiliki variabilitas lebih tinggi dibandingkan data testing, sehingga model perlu bekerja lebih keras untuk memodelkan data training."
   ]
  },
  {
   "cell_type": "code",
   "execution_count": 76,
   "id": "5ec1e370",
   "metadata": {},
   "outputs": [],
   "source": [
    "def predictive_performance(model_result, X_test, y_test, threshold=0.5):\n",
    "    \"\"\"\n",
    "    Calculate model's predictive performance\n",
    "\n",
    "    Parameters\n",
    "    ----------\n",
    "    model_result : result of fitted model\n",
    "        Model result from Statsmodels Logit\n",
    "\n",
    "    threshold : float in range[0,1], default = 0.5\n",
    "        Cut-off probability to classify predicted outcome\n",
    "\n",
    "    Returns\n",
    "    -------\n",
    "    accuracy : float\n",
    "        The accuracy\n",
    "\n",
    "    sensitivity : float\n",
    "        The true positive rate\n",
    "\n",
    "    specificity : float\n",
    "        The true negative rate\n",
    "    \"\"\"\n",
    "\n",
    "    X_test_sm = sm.add_constant(X_test)\n",
    "    predict_proba = model_result.predict(X_test_sm)\n",
    "\n",
    "    # Define output y=1 or y=0\n",
    "    output_list=[]\n",
    "    for i in predict_proba:\n",
    "        if i > threshold:\n",
    "            output_list.append(1)\n",
    "        else:\n",
    "            output_list.append(0)\n",
    "\n",
    "    y_pred = np.array(output_list)\n",
    "\n",
    "    # Calculate the confusion matrix\n",
    "    TP = 0\n",
    "    FP = 0\n",
    "    FN = 0\n",
    "    TN = 0\n",
    "    for i in range(len(y_test)):\n",
    "        if y_pred[i]==1 and y_test[i]==1:\n",
    "            TP += 1\n",
    "        elif y_pred[i]==1 and y_test[i]==0:\n",
    "            FP += 1\n",
    "        elif y_pred[i]==0 and y_test[i]==1:\n",
    "            FN += 1\n",
    "        else:\n",
    "            TN += 1\n",
    "\n",
    "    # Calculate metrics from classification matric\n",
    "    accuracy = (TP+TN)/(TP+FP+TN+FN)\n",
    "    sensitivity = (TP)/(TP+FN)\n",
    "    specificity = (TN)/(TN+FP)\n",
    "\n",
    "    return accuracy, sensitivity, specificity\n"
   ]
  },
  {
   "cell_type": "code",
   "execution_count": 77,
   "id": "eb186c80",
   "metadata": {},
   "outputs": [
    {
     "data": {
      "text/plain": [
       "(0.6793333333333333, 0.6612111292962357, 0.6839681875261616)"
      ]
     },
     "execution_count": 77,
     "metadata": {},
     "output_type": "execute_result"
    }
   ],
   "source": [
    "# Calculate the best model's predictive performance on test set\n",
    "# We set the decision threshold = 0.2\n",
    "accuracy, sensitivity, specificity = predictive_performance(model_result = best_model_result,\n",
    "                                                            X_test = X_test_best,\n",
    "                                                            y_test = y_test,\n",
    "                                                            threshold = 0.2)\n",
    "\n",
    "accuracy, sensitivity, specificity"
   ]
  },
  {
   "cell_type": "markdown",
   "id": "c7104ba5",
   "metadata": {},
   "source": [
    "Plot ROC and calculate AUC."
   ]
  },
  {
   "cell_type": "code",
   "execution_count": 78,
   "id": "3ca77aa8",
   "metadata": {},
   "outputs": [],
   "source": [
    "# Using method sklearn.metrics.roc_curve\n",
    "from sklearn import metrics"
   ]
  },
  {
   "cell_type": "code",
   "execution_count": 79,
   "id": "6900e992",
   "metadata": {},
   "outputs": [],
   "source": [
    "# Calculate sensitivity (TPR) and 1-specificity (FPR) from each possible threshold\n",
    "fpr, tpr, threshold = metrics.roc_curve(y_true = y_test,\n",
    "                                        y_score = predict_proba)\n",
    "\n",
    "# Calculate AUC score using method sklearn.metrics.roc_auc_score\n",
    "auc = metrics.roc_auc_score(y_true = y_test,\n",
    "                            y_score = predict_proba)\n",
    "\n",
    "auc = round(auc, 2)"
   ]
  },
  {
   "cell_type": "code",
   "execution_count": 80,
   "id": "9074a358",
   "metadata": {},
   "outputs": [
    {
     "data": {
      "image/png": "[encoded data removed]",
      "text/plain": [
       "<Figure size 432x288 with 1 Axes>"
      ]
     },
     "metadata": {
      "needs_background": "light"
     },
     "output_type": "display_data"
    }
   ],
   "source": [
    "# Plot ROC and its AUC\n",
    "plt.plot(fpr,\n",
    "         tpr,\n",
    "         label = \"AUC best model=\"+str(auc))\n",
    "\n",
    "plt.scatter(fpr[(threshold > 0.2) & (threshold < 0.2002)],\n",
    "            tpr[(threshold > 0.2) & (threshold < 0.2002)],\n",
    "            label = 'Threshold = 0.2',\n",
    "            marker = 'x',\n",
    "            color = 'r')\n",
    "\n",
    "plt.ylabel(\"Sensitivity\")\n",
    "plt.xlabel(\"False Positive Rate (1- Specificity)\")\n",
    "plt.legend(loc = 4)\n",
    "plt.show()"
   ]
  },
  {
   "cell_type": "markdown",
   "id": "fffc9a54",
   "metadata": {},
   "source": [
    "Summary from ROC:\n",
    "- If we choose `threshold = 0.2`, we will get:\n",
    "  - False Positive Rate = 0.3\n",
    "  - True Positive Rate (Sensitivity) = 0.65\n",
    "\n",
    "- That means:\n",
    "  - Memiliki probabilitas sebesar 30% untuk memprediksi pelanggan yang sebenarnya berhenti dengan tidak tepat. Untuk mencegah churn (seperti diskon atau insentif) mahal, threshold ini dapat mengurangi pemborosan untuk pelanggan yang tidak sebenarnya churn.\n",
    "  - You need to discuss this number with the user (Product Team).\n",
    "  - If the user is unhappy and wants a smaller probability of mispredicting the actual churners, you can change your threshold according to the ROC.\n",
    "    - Note that we have a trade-off of a higher false positive rate when aiming for higher sensitivity."
   ]
  },
  {
   "cell_type": "markdown",
   "id": "f2f61174",
   "metadata": {},
   "source": [
    "## Interpret the Best Model Parameters\n",
    "---"
   ]
  },
  {
   "cell_type": "code",
   "execution_count": 81,
   "id": "f5510fbf",
   "metadata": {},
   "outputs": [
    {
     "data": {
      "text/html": [
       "<div>\n",
       "<style scoped>\n",
       "    .dataframe tbody tr th:only-of-type {\n",
       "        vertical-align: middle;\n",
       "    }\n",
       "\n",
       "    .dataframe tbody tr th {\n",
       "        vertical-align: top;\n",
       "    }\n",
       "\n",
       "    .dataframe thead th {\n",
       "        text-align: right;\n",
       "    }\n",
       "</style>\n",
       "<table border=\"1\" class=\"dataframe\">\n",
       "  <thead>\n",
       "    <tr style=\"text-align: right;\">\n",
       "      <th></th>\n",
       "      <th>weights</th>\n",
       "      <th>OR</th>\n",
       "    </tr>\n",
       "  </thead>\n",
       "  <tbody>\n",
       "    <tr>\n",
       "      <th>constant</th>\n",
       "      <td>-3.426826</td>\n",
       "      <td>0.032490</td>\n",
       "    </tr>\n",
       "    <tr>\n",
       "      <th>age</th>\n",
       "      <td>0.075273</td>\n",
       "      <td>1.078178</td>\n",
       "    </tr>\n",
       "    <tr>\n",
       "      <th>active_member</th>\n",
       "      <td>-1.094012</td>\n",
       "      <td>0.334870</td>\n",
       "    </tr>\n",
       "    <tr>\n",
       "      <th>balance</th>\n",
       "      <td>0.000005</td>\n",
       "      <td>1.000005</td>\n",
       "    </tr>\n",
       "    <tr>\n",
       "      <th>gender</th>\n",
       "      <td>-0.562855</td>\n",
       "      <td>0.569581</td>\n",
       "    </tr>\n",
       "    <tr>\n",
       "      <th>credit_score</th>\n",
       "      <td>-0.000964</td>\n",
       "      <td>0.999037</td>\n",
       "    </tr>\n",
       "  </tbody>\n",
       "</table>\n",
       "</div>"
      ],
      "text/plain": [
       "                weights        OR\n",
       "constant      -3.426826  0.032490\n",
       "age            0.075273  1.078178\n",
       "active_member -1.094012  0.334870\n",
       "balance        0.000005  1.000005\n",
       "gender        -0.562855  0.569581\n",
       "credit_score  -0.000964  0.999037"
      ]
     },
     "execution_count": 81,
     "metadata": {},
     "output_type": "execute_result"
    }
   ],
   "source": [
    "# recall model parameter\n",
    "best_model_summary"
   ]
  },
  {
   "cell_type": "markdown",
   "id": "103cc532",
   "metadata": {},
   "source": [
    "## Analisis Churn Pelanggan\n",
    "\n",
    "**Apa saja prediktor yang meningkatkan probabilitas churn?**\n",
    "- Ketika prediktor lain tetap konstan, penambahan nilai pada `usia` dan `saldo` menunjukkan peningkatan probabilitas churn.\n",
    "- Artinya, ketika prediktor lain tetap konstan:\n",
    "  - Penambahan **1 tahun** akan meningkatkan peluang churn hampir **8%**.\n",
    "  - Penambahan **1 kegagalan layanan** akan meningkatkan peluang churn sekitar **0,0005%**.\n",
    "\n",
    "**Bagaimana keanggotaan aktif memengaruhi probabilitas churn?**\n",
    "- Jika pelanggan adalah anggota aktif, peluang mereka untuk churn akan berkurang sekitar **66,5%** dibandingkan dengan pelanggan yang tidak aktif.\n",
    "- Aktivitas pelanggan adalah **faktor pelindung** terhadap churn.\n",
    "\n",
    "**Bagaimana jenis kelamin memengaruhi probabilitas churn?**\n",
    "- Jika pelanggan adalah perempuan (dengan asumsi kategori referensi adalah laki-laki), peluang mereka untuk churn akan berkurang sekitar **43%** dibandingkan dengan pelanggan laki-laki.\n",
    "- **Pelanggan laki-laki** lebih mungkin untuk churn dibandingkan dengan pelanggan perempuan.\n",
    "\n",
    "**Bagaimana skor kredit memengaruhi probabilitas churn?**\n",
    "- Untuk setiap **peningkatan 1 poin** dalam skor kredit, peluang pelanggan untuk churn akan berkurang sebesar **0,096%**.\n",
    "- Skor kredit yang lebih tinggi sedikit mengurangi kemungkinan churn pelanggan, meskipun dampaknya relatif kecil."
   ]
  },
  {
   "cell_type": "code",
   "execution_count": null,
   "id": "7e345093",
   "metadata": {},
   "outputs": [],
   "source": []
  }
 ],
 "metadata": {
  "kernelspec": {
   "display_name": "Python 3",
   "language": "python",
   "name": "python3"
  },
  "language_info": {
   "codemirror_mode": {
    "name": "ipython",
    "version": 3
   },
   "file_extension": ".py",
   "mimetype": "text/x-python",
   "name": "python",
   "nbconvert_exporter": "python",
   "pygments_lexer": "ipython3",
   "version": "3.8.8"
  }
 },
 "nbformat": 4,
 "nbformat_minor": 5
}
